{
 "cells": [
  {
   "cell_type": "code",
   "execution_count": 1,
   "metadata": {
    "_cell_guid": "b1076dfc-b9ad-4769-8c92-a6c4dae69d19",
    "_uuid": "8f2839f25d086af736a60e9eeb907d3b93b6e0e5",
    "execution": {
     "iopub.execute_input": "2023-01-07T14:39:34.811739Z",
     "iopub.status.busy": "2023-01-07T14:39:34.810845Z",
     "iopub.status.idle": "2023-01-07T14:39:34.845561Z",
     "shell.execute_reply": "2023-01-07T14:39:34.84432Z",
     "shell.execute_reply.started": "2023-01-07T14:39:34.811617Z"
    },
    "id": "w5V6LpP1Hz-3"
   },
   "outputs": [],
   "source": [
    "import numpy as np\n",
    "import pandas as pd"
   ]
  },
  {
   "cell_type": "code",
   "execution_count": 2,
   "metadata": {
    "execution": {
     "iopub.execute_input": "2023-01-07T14:39:54.975796Z",
     "iopub.status.busy": "2023-01-07T14:39:54.975371Z",
     "iopub.status.idle": "2023-01-07T14:39:56.879528Z",
     "shell.execute_reply": "2023-01-07T14:39:56.8784Z",
     "shell.execute_reply.started": "2023-01-07T14:39:54.975758Z"
    },
    "id": "ETRX8yHYHz-4"
   },
   "outputs": [],
   "source": [
    "df = pd.read_csv('IMDB_Dataset.csv')"
   ]
  },
  {
   "cell_type": "code",
   "execution_count": 3,
   "metadata": {
    "execution": {
     "iopub.execute_input": "2023-01-07T14:39:59.754202Z",
     "iopub.status.busy": "2023-01-07T14:39:59.75289Z",
     "iopub.status.idle": "2023-01-07T14:39:59.775594Z",
     "shell.execute_reply": "2023-01-07T14:39:59.773811Z",
     "shell.execute_reply.started": "2023-01-07T14:39:59.754155Z"
    },
    "id": "v871rY4eHz-4"
   },
   "outputs": [
    {
     "data": {
      "text/html": [
       "<div>\n",
       "<style scoped>\n",
       "    .dataframe tbody tr th:only-of-type {\n",
       "        vertical-align: middle;\n",
       "    }\n",
       "\n",
       "    .dataframe tbody tr th {\n",
       "        vertical-align: top;\n",
       "    }\n",
       "\n",
       "    .dataframe thead th {\n",
       "        text-align: right;\n",
       "    }\n",
       "</style>\n",
       "<table border=\"1\" class=\"dataframe\">\n",
       "  <thead>\n",
       "    <tr style=\"text-align: right;\">\n",
       "      <th></th>\n",
       "      <th>review</th>\n",
       "      <th>sentiment</th>\n",
       "    </tr>\n",
       "  </thead>\n",
       "  <tbody>\n",
       "    <tr>\n",
       "      <th>0</th>\n",
       "      <td>One of the other reviewers has mentioned that ...</td>\n",
       "      <td>positive</td>\n",
       "    </tr>\n",
       "    <tr>\n",
       "      <th>1</th>\n",
       "      <td>A wonderful little production. &lt;br /&gt;&lt;br /&gt;The...</td>\n",
       "      <td>positive</td>\n",
       "    </tr>\n",
       "    <tr>\n",
       "      <th>2</th>\n",
       "      <td>I thought this was a wonderful way to spend ti...</td>\n",
       "      <td>positive</td>\n",
       "    </tr>\n",
       "    <tr>\n",
       "      <th>3</th>\n",
       "      <td>Basically there's a family where a little boy ...</td>\n",
       "      <td>negative</td>\n",
       "    </tr>\n",
       "    <tr>\n",
       "      <th>4</th>\n",
       "      <td>Petter Mattei's \"Love in the Time of Money\" is...</td>\n",
       "      <td>positive</td>\n",
       "    </tr>\n",
       "  </tbody>\n",
       "</table>\n",
       "</div>"
      ],
      "text/plain": [
       "                                              review sentiment\n",
       "0  One of the other reviewers has mentioned that ...  positive\n",
       "1  A wonderful little production. <br /><br />The...  positive\n",
       "2  I thought this was a wonderful way to spend ti...  positive\n",
       "3  Basically there's a family where a little boy ...  negative\n",
       "4  Petter Mattei's \"Love in the Time of Money\" is...  positive"
      ]
     },
     "execution_count": 3,
     "metadata": {},
     "output_type": "execute_result"
    }
   ],
   "source": [
    "df.head()"
   ]
  },
  {
   "cell_type": "code",
   "execution_count": null,
   "metadata": {
    "execution": {
     "iopub.execute_input": "2023-01-07T14:40:29.31171Z",
     "iopub.status.busy": "2023-01-07T14:40:29.311312Z",
     "iopub.status.idle": "2023-01-07T14:40:29.318991Z",
     "shell.execute_reply": "2023-01-07T14:40:29.318058Z",
     "shell.execute_reply.started": "2023-01-07T14:40:29.311677Z"
    },
    "id": "x4fpdgtsHz-5"
   },
   "outputs": [],
   "source": [
    "df['review'][0]"
   ]
  },
  {
   "cell_type": "code",
   "execution_count": null,
   "metadata": {
    "execution": {
     "iopub.execute_input": "2023-01-07T15:00:01.967803Z",
     "iopub.status.busy": "2023-01-07T15:00:01.967084Z",
     "iopub.status.idle": "2023-01-07T15:00:02.00132Z",
     "shell.execute_reply": "2023-01-07T15:00:02.000065Z",
     "shell.execute_reply.started": "2023-01-07T15:00:01.96775Z"
    },
    "id": "6zkjWzlpHz-5"
   },
   "outputs": [],
   "source": [
    "df.info()"
   ]
  },
  {
   "cell_type": "code",
   "execution_count": null,
   "metadata": {
    "execution": {
     "iopub.execute_input": "2023-01-07T15:00:22.406451Z",
     "iopub.status.busy": "2023-01-07T15:00:22.405132Z",
     "iopub.status.idle": "2023-01-07T15:00:22.602368Z",
     "shell.execute_reply": "2023-01-07T15:00:22.601149Z",
     "shell.execute_reply.started": "2023-01-07T15:00:22.406406Z"
    },
    "id": "cYzg3-FlHz-6"
   },
   "outputs": [],
   "source": [
    "df.duplicated().sum()"
   ]
  },
  {
   "cell_type": "code",
   "execution_count": null,
   "metadata": {
    "execution": {
     "iopub.execute_input": "2023-01-07T15:00:48.109066Z",
     "iopub.status.busy": "2023-01-07T15:00:48.108662Z",
     "iopub.status.idle": "2023-01-07T15:00:48.293952Z",
     "shell.execute_reply": "2023-01-07T15:00:48.292741Z",
     "shell.execute_reply.started": "2023-01-07T15:00:48.109032Z"
    },
    "id": "5wxmY4IoHz-6"
   },
   "outputs": [],
   "source": [
    "df = df.drop_duplicates()"
   ]
  },
  {
   "cell_type": "code",
   "execution_count": null,
   "metadata": {
    "execution": {
     "iopub.execute_input": "2023-01-07T15:01:56.331316Z",
     "iopub.status.busy": "2023-01-07T15:01:56.330858Z",
     "iopub.status.idle": "2023-01-07T15:01:56.337229Z",
     "shell.execute_reply": "2023-01-07T15:01:56.335746Z",
     "shell.execute_reply.started": "2023-01-07T15:01:56.33127Z"
    },
    "id": "CA8cXvfaHz-7"
   },
   "outputs": [],
   "source": [
    "df = df.iloc[:10000]"
   ]
  },
  {
   "cell_type": "code",
   "execution_count": null,
   "metadata": {
    "execution": {
     "iopub.execute_input": "2023-01-07T15:04:42.967535Z",
     "iopub.status.busy": "2023-01-07T15:04:42.967125Z",
     "iopub.status.idle": "2023-01-07T15:04:42.980358Z",
     "shell.execute_reply": "2023-01-07T15:04:42.979161Z",
     "shell.execute_reply.started": "2023-01-07T15:04:42.967503Z"
    },
    "id": "1LfpvzHHHz-7"
   },
   "outputs": [],
   "source": [
    "# Cleaning\n",
    "\n",
    "# lower case\n",
    "df.head()"
   ]
  },
  {
   "cell_type": "code",
   "execution_count": null,
   "metadata": {
    "execution": {
     "iopub.execute_input": "2023-01-07T15:05:51.480009Z",
     "iopub.status.busy": "2023-01-07T15:05:51.4788Z",
     "iopub.status.idle": "2023-01-07T15:05:51.515678Z",
     "shell.execute_reply": "2023-01-07T15:05:51.514369Z",
     "shell.execute_reply.started": "2023-01-07T15:05:51.479953Z"
    },
    "id": "YQ4h4gtPHz-7"
   },
   "outputs": [],
   "source": [
    "df['review'] = df['review'].str.lower()"
   ]
  },
  {
   "cell_type": "code",
   "execution_count": null,
   "metadata": {
    "execution": {
     "iopub.execute_input": "2023-01-07T15:05:55.575148Z",
     "iopub.status.busy": "2023-01-07T15:05:55.574585Z",
     "iopub.status.idle": "2023-01-07T15:05:55.589399Z",
     "shell.execute_reply": "2023-01-07T15:05:55.588214Z",
     "shell.execute_reply.started": "2023-01-07T15:05:55.575092Z"
    },
    "id": "QSGr30guHz-8"
   },
   "outputs": [],
   "source": [
    "df.head()"
   ]
  },
  {
   "cell_type": "code",
   "execution_count": null,
   "metadata": {
    "execution": {
     "iopub.execute_input": "2023-01-07T15:07:20.670232Z",
     "iopub.status.busy": "2023-01-07T15:07:20.669811Z",
     "iopub.status.idle": "2023-01-07T15:07:20.683166Z",
     "shell.execute_reply": "2023-01-07T15:07:20.681847Z",
     "shell.execute_reply.started": "2023-01-07T15:07:20.670195Z"
    },
    "id": "KHk3x3LAHz-8"
   },
   "outputs": [],
   "source": [
    "# remove whitespaces\n",
    "df['review'] = df['review'].str.strip()"
   ]
  },
  {
   "cell_type": "code",
   "execution_count": null,
   "metadata": {
    "execution": {
     "iopub.execute_input": "2023-01-07T15:07:26.168031Z",
     "iopub.status.busy": "2023-01-07T15:07:26.167513Z",
     "iopub.status.idle": "2023-01-07T15:07:26.181478Z",
     "shell.execute_reply": "2023-01-07T15:07:26.180323Z",
     "shell.execute_reply.started": "2023-01-07T15:07:26.167995Z"
    },
    "id": "bXL7VrkjHz-8"
   },
   "outputs": [],
   "source": [
    "df.head()"
   ]
  },
  {
   "cell_type": "code",
   "execution_count": null,
   "metadata": {
    "execution": {
     "iopub.execute_input": "2023-01-07T15:14:03.025772Z",
     "iopub.status.busy": "2023-01-07T15:14:03.02537Z",
     "iopub.status.idle": "2023-01-07T15:14:03.069458Z",
     "shell.execute_reply": "2023-01-07T15:14:03.068007Z",
     "shell.execute_reply.started": "2023-01-07T15:14:03.025741Z"
    },
    "id": "Z-FZNJpNHz-8"
   },
   "outputs": [],
   "source": [
    "# remove html tags\n",
    "df['review'] = df['review'].str.replace(r'<.*?>','')"
   ]
  },
  {
   "cell_type": "code",
   "execution_count": null,
   "metadata": {
    "execution": {
     "iopub.execute_input": "2023-01-07T15:14:07.727586Z",
     "iopub.status.busy": "2023-01-07T15:14:07.727186Z",
     "iopub.status.idle": "2023-01-07T15:14:07.738922Z",
     "shell.execute_reply": "2023-01-07T15:14:07.737745Z",
     "shell.execute_reply.started": "2023-01-07T15:14:07.727554Z"
    },
    "id": "6elZGA2zHz-8"
   },
   "outputs": [],
   "source": [
    "df.head()"
   ]
  },
  {
   "cell_type": "code",
   "execution_count": null,
   "metadata": {
    "execution": {
     "iopub.execute_input": "2023-01-07T15:18:02.917643Z",
     "iopub.status.busy": "2023-01-07T15:18:02.916624Z",
     "iopub.status.idle": "2023-01-07T15:18:02.923258Z",
     "shell.execute_reply": "2023-01-07T15:18:02.922079Z",
     "shell.execute_reply.started": "2023-01-07T15:18:02.917599Z"
    },
    "id": "-L8BbZ9KHz-9"
   },
   "outputs": [],
   "source": [
    "# http://campusx.in www.campusx.in www.campusx.co.in\n",
    "\n",
    "def remove_url(data):\n",
    "    data=re.sub(r\"https?://\\S+|www\\.\\S+\",'',data)\n",
    "    return data"
   ]
  },
  {
   "cell_type": "code",
   "execution_count": null,
   "metadata": {
    "execution": {
     "iopub.execute_input": "2023-01-07T15:21:08.832433Z",
     "iopub.status.busy": "2023-01-07T15:21:08.832002Z",
     "iopub.status.idle": "2023-01-07T15:21:08.95345Z",
     "shell.execute_reply": "2023-01-07T15:21:08.952096Z",
     "shell.execute_reply.started": "2023-01-07T15:21:08.832389Z"
    },
    "id": "1GeqGR8_Hz-9"
   },
   "outputs": [],
   "source": [
    "# code to remove a URL\n",
    "df['review'] = df['review'].str.replace(r\"https?://\\S+|www\\.\\S+\",'')"
   ]
  },
  {
   "cell_type": "code",
   "execution_count": null,
   "metadata": {
    "execution": {
     "iopub.execute_input": "2023-01-07T15:20:34.641586Z",
     "iopub.status.busy": "2023-01-07T15:20:34.640619Z",
     "iopub.status.idle": "2023-01-07T15:20:34.76471Z",
     "shell.execute_reply": "2023-01-07T15:20:34.763501Z",
     "shell.execute_reply.started": "2023-01-07T15:20:34.641544Z"
    },
    "id": "nGS0fSRlHz-9"
   },
   "outputs": [],
   "source": [
    "# code to check if a review contains an URL\n",
    "df[df['review'].str.contains(r\"https?://\\S+|www\\.\\S+\")].iloc[4].values"
   ]
  },
  {
   "cell_type": "code",
   "execution_count": null,
   "metadata": {
    "execution": {
     "iopub.execute_input": "2023-01-07T15:21:14.499739Z",
     "iopub.status.busy": "2023-01-07T15:21:14.499223Z",
     "iopub.status.idle": "2023-01-07T15:21:14.512617Z",
     "shell.execute_reply": "2023-01-07T15:21:14.51167Z",
     "shell.execute_reply.started": "2023-01-07T15:21:14.499693Z"
    },
    "id": "ZR3YY7T7Hz-9"
   },
   "outputs": [],
   "source": [
    "df.head()"
   ]
  },
  {
   "cell_type": "code",
   "execution_count": null,
   "metadata": {
    "execution": {
     "iopub.execute_input": "2023-01-07T15:27:35.342165Z",
     "iopub.status.busy": "2023-01-07T15:27:35.341758Z",
     "iopub.status.idle": "2023-01-07T15:27:35.371916Z",
     "shell.execute_reply": "2023-01-07T15:27:35.370601Z",
     "shell.execute_reply.started": "2023-01-07T15:27:35.342132Z"
    },
    "id": "Dahu2tkvHz-9"
   },
   "outputs": [],
   "source": [
    "# expanding abbvr\n",
    "\n",
    "# expand\n",
    "\n",
    "def remove_abb(data):\n",
    "    data = re.sub(r\"he's\", \"he is\", data)\n",
    "    data = re.sub(r\"there's\", \"there is\", data)\n",
    "    data = re.sub(r\"We're\", \"We are\", data)\n",
    "    data = re.sub(r\"That's\", \"That is\", data)\n",
    "    data = re.sub(r\"won't\", \"will not\", data)\n",
    "    data = re.sub(r\"they're\", \"they are\", data)\n",
    "    data = re.sub(r\"Can't\", \"Cannot\", data)\n",
    "    data = re.sub(r\"wasn't\", \"was not\", data)\n",
    "    data = re.sub(r\"don\\x89Ûªt\", \"do not\", data)\n",
    "    data= re.sub(r\"aren't\", \"are not\", data)\n",
    "    data = re.sub(r\"isn't\", \"is not\", data)\n",
    "    data = re.sub(r\"What's\", \"What is\", data)\n",
    "    data = re.sub(r\"haven't\", \"have not\", data)\n",
    "    data = re.sub(r\"hasn't\", \"has not\", data)\n",
    "    data = re.sub(r\"There's\", \"There is\", data)\n",
    "    data = re.sub(r\"He's\", \"He is\", data)\n",
    "    data = re.sub(r\"It's\", \"It is\", data)\n",
    "    data = re.sub(r\"You're\", \"You are\", data)\n",
    "    data = re.sub(r\"I'M\", \"I am\", data)\n",
    "    data = re.sub(r\"shouldn't\", \"should not\", data)\n",
    "    data = re.sub(r\"wouldn't\", \"would not\", data)\n",
    "    data = re.sub(r\"i'm\", \"I am\", data)\n",
    "    data = re.sub(r\"I\\x89Ûªm\", \"I am\", data)\n",
    "    data = re.sub(r\"I'm\", \"I am\", data)\n",
    "    data = re.sub(r\"Isn't\", \"is not\", data)\n",
    "    data = re.sub(r\"Here's\", \"Here is\", data)\n",
    "    data = re.sub(r\"you've\", \"you have\", data)\n",
    "    data = re.sub(r\"you\\x89Ûªve\", \"you have\", data)\n",
    "    data = re.sub(r\"we're\", \"we are\", data)\n",
    "    data = re.sub(r\"what's\", \"what is\", data)\n",
    "    data = re.sub(r\"couldn't\", \"could not\", data)\n",
    "    data = re.sub(r\"we've\", \"we have\", data)\n",
    "    data = re.sub(r\"it\\x89Ûªs\", \"it is\", data)\n",
    "    data = re.sub(r\"doesn\\x89Ûªt\", \"does not\", data)\n",
    "    data = re.sub(r\"It\\x89Ûªs\", \"It is\", data)\n",
    "    data = re.sub(r\"Here\\x89Ûªs\", \"Here is\", data)\n",
    "    data = re.sub(r\"who's\", \"who is\", data)\n",
    "    data = re.sub(r\"I\\x89Ûªve\", \"I have\", data)\n",
    "    data = re.sub(r\"y'all\", \"you all\", data)\n",
    "    data = re.sub(r\"can\\x89Ûªt\", \"cannot\", data)\n",
    "    data = re.sub(r\"would've\", \"would have\", data)\n",
    "    data = re.sub(r\"it'll\", \"it will\", data)\n",
    "    data = re.sub(r\"we'll\", \"we will\", data)\n",
    "    data = re.sub(r\"wouldn\\x89Ûªt\", \"would not\", data)\n",
    "    data = re.sub(r\"We've\", \"We have\", data)\n",
    "    data = re.sub(r\"he'll\", \"he will\", data)\n",
    "    data = re.sub(r\"Y'all\", \"You all\", data)\n",
    "    data = re.sub(r\"Weren't\", \"Were not\", data)\n",
    "    data = re.sub(r\"Didn't\", \"Did not\", data)\n",
    "    data = re.sub(r\"they'll\", \"they will\", data)\n",
    "    data = re.sub(r\"they'd\", \"they would\", data)\n",
    "    data = re.sub(r\"DON'T\", \"DO NOT\", data)\n",
    "    data = re.sub(r\"That\\x89Ûªs\", \"That is\", data)\n",
    "    data = re.sub(r\"they've\", \"they have\", data)\n",
    "    data = re.sub(r\"i'd\", \"I would\", data)\n",
    "    data = re.sub(r\"should've\", \"should have\", data)\n",
    "    data = re.sub(r\"You\\x89Ûªre\", \"You are\", data)\n",
    "    data = re.sub(r\"where's\", \"where is\", data)\n",
    "    data = re.sub(r\"Don\\x89Ûªt\", \"Do not\", data)\n",
    "    data = re.sub(r\"we'd\", \"we would\", data)\n",
    "    data = re.sub(r\"i'll\", \"I will\", data)\n",
    "    data = re.sub(r\"weren't\", \"were not\", data)\n",
    "    data = re.sub(r\"They're\", \"They are\", data)\n",
    "    data = re.sub(r\"Can\\x89Ûªt\", \"Cannot\", data)\n",
    "    data = re.sub(r\"you\\x89Ûªll\", \"you will\", data)\n",
    "    data = re.sub(r\"I\\x89Ûªd\", \"I would\", data)\n",
    "    data = re.sub(r\"let's\", \"let us\", data)\n",
    "    data = re.sub(r\"it's\", \"it is\", data)\n",
    "    data = re.sub(r\"can't\", \"cannot\", data)\n",
    "    data = re.sub(r\"don't\", \"do not\", data)\n",
    "    data = re.sub(r\"you're\", \"you are\", data)\n",
    "    data = re.sub(r\"i've\", \"I have\", data)\n",
    "    data = re.sub(r\"that's\", \"that is\", data)\n",
    "    data = re.sub(r\"i'll\", \"I will\", data)\n",
    "    data = re.sub(r\"doesn't\", \"does not\",data)\n",
    "    data = re.sub(r\"i'd\", \"I would\", data)\n",
    "    data = re.sub(r\"didn't\", \"did not\", data)\n",
    "    data = re.sub(r\"ain't\", \"am not\", data)\n",
    "    data = re.sub(r\"you'll\", \"you will\", data)\n",
    "    data = re.sub(r\"I've\", \"I have\", data)\n",
    "    data = re.sub(r\"Don't\", \"do not\", data)\n",
    "    data = re.sub(r\"I'll\", \"I will\", data)\n",
    "    data = re.sub(r\"I'd\", \"I would\", data)\n",
    "    data = re.sub(r\"Let's\", \"Let us\", data)\n",
    "    data = re.sub(r\"you'd\", \"You would\", data)\n",
    "    data = re.sub(r\"It's\", \"It is\", data)\n",
    "    data = re.sub(r\"Ain't\", \"am not\", data)\n",
    "    data = re.sub(r\"Haven't\", \"Have not\", data)\n",
    "    data = re.sub(r\"Could've\", \"Could have\", data)\n",
    "    data = re.sub(r\"youve\", \"you have\", data)\n",
    "    data = re.sub(r\"donå«t\", \"do not\", data)\n",
    "\n",
    "    return data"
   ]
  },
  {
   "cell_type": "code",
   "execution_count": null,
   "metadata": {
    "execution": {
     "iopub.execute_input": "2023-01-07T15:28:38.733694Z",
     "iopub.status.busy": "2023-01-07T15:28:38.733296Z",
     "iopub.status.idle": "2023-01-07T15:28:40.67817Z",
     "shell.execute_reply": "2023-01-07T15:28:40.677002Z",
     "shell.execute_reply.started": "2023-01-07T15:28:38.733662Z"
    },
    "id": "ZGlCkBTVHz--"
   },
   "outputs": [],
   "source": [
    "df['review'] = df['review'].apply(remove_abb)"
   ]
  },
  {
   "cell_type": "code",
   "execution_count": null,
   "metadata": {
    "execution": {
     "iopub.execute_input": "2023-01-07T15:28:44.24049Z",
     "iopub.status.busy": "2023-01-07T15:28:44.239956Z",
     "iopub.status.idle": "2023-01-07T15:28:44.249787Z",
     "shell.execute_reply": "2023-01-07T15:28:44.248651Z",
     "shell.execute_reply.started": "2023-01-07T15:28:44.240454Z"
    },
    "id": "FQboOMGYHz--"
   },
   "outputs": [],
   "source": [
    "df['review']"
   ]
  },
  {
   "cell_type": "code",
   "execution_count": null,
   "metadata": {
    "execution": {
     "iopub.execute_input": "2023-01-07T15:31:00.439777Z",
     "iopub.status.busy": "2023-01-07T15:31:00.439304Z",
     "iopub.status.idle": "2023-01-07T15:31:01.678303Z",
     "shell.execute_reply": "2023-01-07T15:31:01.676888Z",
     "shell.execute_reply.started": "2023-01-07T15:31:00.439739Z"
    },
    "id": "EQoRm3KNHz--"
   },
   "outputs": [],
   "source": [
    "from textblob import TextBlob\n",
    "\n",
    "text = \"hi I can drve at nigt\"\n",
    "TextBlob(text).correct().string"
   ]
  },
  {
   "cell_type": "code",
   "execution_count": null,
   "metadata": {
    "execution": {
     "iopub.execute_input": "2023-01-07T15:31:39.879424Z",
     "iopub.status.busy": "2023-01-07T15:31:39.878984Z",
     "iopub.status.idle": "2023-01-07T15:31:39.885011Z",
     "shell.execute_reply": "2023-01-07T15:31:39.883374Z",
     "shell.execute_reply.started": "2023-01-07T15:31:39.879383Z"
    },
    "id": "j8DTDa8-Hz--"
   },
   "outputs": [],
   "source": [
    "def spelling_correction(text):\n",
    "    return TextBlob(text).correct().string"
   ]
  },
  {
   "cell_type": "code",
   "execution_count": null,
   "metadata": {
    "execution": {
     "iopub.execute_input": "2023-01-07T15:31:58.019208Z",
     "iopub.status.busy": "2023-01-07T15:31:58.018687Z",
     "iopub.status.idle": "2023-01-07T15:34:17.887154Z",
     "shell.execute_reply": "2023-01-07T15:34:17.884982Z",
     "shell.execute_reply.started": "2023-01-07T15:31:58.019159Z"
    },
    "id": "OuCQc8NSHz--"
   },
   "outputs": [],
   "source": [
    "df['review'].apply(spelling_correction)"
   ]
  },
  {
   "cell_type": "code",
   "execution_count": null,
   "metadata": {
    "execution": {
     "iopub.execute_input": "2023-01-07T15:34:45.597545Z",
     "iopub.status.busy": "2023-01-07T15:34:45.596374Z",
     "iopub.status.idle": "2023-01-07T15:34:45.6022Z",
     "shell.execute_reply": "2023-01-07T15:34:45.601133Z",
     "shell.execute_reply.started": "2023-01-07T15:34:45.597502Z"
    },
    "id": "DBtzMMDiHz-_"
   },
   "outputs": [],
   "source": [
    "# punctuation\n",
    "import string"
   ]
  },
  {
   "cell_type": "code",
   "execution_count": null,
   "metadata": {
    "execution": {
     "iopub.execute_input": "2023-01-07T15:34:53.666452Z",
     "iopub.status.busy": "2023-01-07T15:34:53.66602Z",
     "iopub.status.idle": "2023-01-07T15:34:53.67417Z",
     "shell.execute_reply": "2023-01-07T15:34:53.672971Z",
     "shell.execute_reply.started": "2023-01-07T15:34:53.666414Z"
    },
    "id": "kcMDOj7QHz-_"
   },
   "outputs": [],
   "source": [
    "string.punctuation"
   ]
  },
  {
   "cell_type": "code",
   "execution_count": null,
   "metadata": {
    "execution": {
     "iopub.execute_input": "2023-01-07T15:36:44.115882Z",
     "iopub.status.busy": "2023-01-07T15:36:44.115459Z",
     "iopub.status.idle": "2023-01-07T15:36:44.122167Z",
     "shell.execute_reply": "2023-01-07T15:36:44.120908Z",
     "shell.execute_reply.started": "2023-01-07T15:36:44.115841Z"
    },
    "id": "Idr__PX8Hz-_"
   },
   "outputs": [],
   "source": [
    "def remove_puctuation(text):\n",
    "\n",
    "    for i in string.punctuation:\n",
    "        if i in text:\n",
    "            text = text.replace(i,'')\n",
    "\n",
    "    return text"
   ]
  },
  {
   "cell_type": "code",
   "execution_count": null,
   "metadata": {
    "execution": {
     "iopub.execute_input": "2023-01-07T15:37:31.234462Z",
     "iopub.status.busy": "2023-01-07T15:37:31.233989Z",
     "iopub.status.idle": "2023-01-07T15:37:31.427102Z",
     "shell.execute_reply": "2023-01-07T15:37:31.425874Z",
     "shell.execute_reply.started": "2023-01-07T15:37:31.234411Z"
    },
    "id": "aTJ0VZiXHz-_"
   },
   "outputs": [],
   "source": [
    "df['review'] = df['review'].apply(remove_puctuation)\n",
    "df['review'].head()"
   ]
  },
  {
   "cell_type": "code",
   "execution_count": null,
   "metadata": {
    "execution": {
     "iopub.execute_input": "2023-01-07T15:44:26.064021Z",
     "iopub.status.busy": "2023-01-07T15:44:26.063613Z",
     "iopub.status.idle": "2023-01-07T15:44:26.069799Z",
     "shell.execute_reply": "2023-01-07T15:44:26.068543Z",
     "shell.execute_reply.started": "2023-01-07T15:44:26.063986Z"
    },
    "id": "acL5yIP8Hz-_"
   },
   "outputs": [],
   "source": [
    "from nltk.tokenize import word_tokenize"
   ]
  },
  {
   "cell_type": "code",
   "execution_count": null,
   "metadata": {
    "execution": {
     "iopub.execute_input": "2023-01-07T15:45:18.731631Z",
     "iopub.status.busy": "2023-01-07T15:45:18.731168Z",
     "iopub.status.idle": "2023-01-07T15:45:26.636753Z",
     "shell.execute_reply": "2023-01-07T15:45:26.635414Z",
     "shell.execute_reply.started": "2023-01-07T15:45:18.731591Z"
    },
    "id": "moRALKbNHz-_"
   },
   "outputs": [],
   "source": [
    "df['tokenized_review'] = df['review'].apply(word_tokenize)"
   ]
  },
  {
   "cell_type": "code",
   "execution_count": null,
   "metadata": {
    "execution": {
     "iopub.execute_input": "2023-01-07T15:45:27.461738Z",
     "iopub.status.busy": "2023-01-07T15:45:27.461175Z",
     "iopub.status.idle": "2023-01-07T15:45:27.47799Z",
     "shell.execute_reply": "2023-01-07T15:45:27.476487Z",
     "shell.execute_reply.started": "2023-01-07T15:45:27.461704Z"
    },
    "id": "-MtxPlA_Hz_A"
   },
   "outputs": [],
   "source": [
    "df.head()"
   ]
  },
  {
   "cell_type": "code",
   "execution_count": null,
   "metadata": {
    "execution": {
     "iopub.execute_input": "2023-01-07T15:47:21.849328Z",
     "iopub.status.busy": "2023-01-07T15:47:21.848883Z",
     "iopub.status.idle": "2023-01-07T15:47:21.854757Z",
     "shell.execute_reply": "2023-01-07T15:47:21.853623Z",
     "shell.execute_reply.started": "2023-01-07T15:47:21.849291Z"
    },
    "id": "reGeE6HLHz_A"
   },
   "outputs": [],
   "source": [
    "# stop word removal\n",
    "from nltk.corpus import stopwords"
   ]
  },
  {
   "cell_type": "code",
   "execution_count": null,
   "metadata": {
    "execution": {
     "iopub.execute_input": "2023-01-07T15:49:24.162364Z",
     "iopub.status.busy": "2023-01-07T15:49:24.161919Z",
     "iopub.status.idle": "2023-01-07T15:49:24.168666Z",
     "shell.execute_reply": "2023-01-07T15:49:24.167666Z",
     "shell.execute_reply.started": "2023-01-07T15:49:24.162329Z"
    },
    "id": "xYCzsuonHz_A"
   },
   "outputs": [],
   "source": [
    "def remove_stopwords(text):\n",
    "\n",
    "    L = []\n",
    "    for word in text:\n",
    "        if word not in stopwords.words('english'):\n",
    "            L.append(word)\n",
    "\n",
    "    return L"
   ]
  },
  {
   "cell_type": "code",
   "execution_count": null,
   "metadata": {
    "execution": {
     "iopub.execute_input": "2023-01-07T15:50:39.58242Z",
     "iopub.status.busy": "2023-01-07T15:50:39.581956Z",
     "iopub.status.idle": "2023-01-07T15:56:03.004673Z",
     "shell.execute_reply": "2023-01-07T15:56:03.003381Z",
     "shell.execute_reply.started": "2023-01-07T15:50:39.582381Z"
    },
    "id": "L4VseIcnHz_A"
   },
   "outputs": [],
   "source": [
    "df['tokenized_review'] = df['tokenized_review'].apply(remove_stopwords)"
   ]
  },
  {
   "cell_type": "code",
   "execution_count": null,
   "metadata": {
    "execution": {
     "iopub.execute_input": "2023-01-07T15:57:24.033064Z",
     "iopub.status.busy": "2023-01-07T15:57:24.032584Z",
     "iopub.status.idle": "2023-01-07T15:57:24.052653Z",
     "shell.execute_reply": "2023-01-07T15:57:24.051335Z",
     "shell.execute_reply.started": "2023-01-07T15:57:24.033019Z"
    },
    "id": "qapD_NJRHz_A"
   },
   "outputs": [],
   "source": [
    "df.head()"
   ]
  },
  {
   "cell_type": "code",
   "execution_count": null,
   "metadata": {
    "execution": {
     "iopub.execute_input": "2023-01-07T15:58:50.220837Z",
     "iopub.status.busy": "2023-01-07T15:58:50.219678Z",
     "iopub.status.idle": "2023-01-07T15:58:50.26427Z",
     "shell.execute_reply": "2023-01-07T15:58:50.262958Z",
     "shell.execute_reply.started": "2023-01-07T15:58:50.22079Z"
    },
    "id": "uWcpZvWZHz_B"
   },
   "outputs": [],
   "source": [
    "df['review'] = df['tokenized_review'].apply(lambda x:\" \".join(x))"
   ]
  },
  {
   "cell_type": "code",
   "execution_count": null,
   "metadata": {
    "execution": {
     "iopub.execute_input": "2023-01-07T15:58:54.744342Z",
     "iopub.status.busy": "2023-01-07T15:58:54.743758Z",
     "iopub.status.idle": "2023-01-07T15:58:54.763029Z",
     "shell.execute_reply": "2023-01-07T15:58:54.762107Z",
     "shell.execute_reply.started": "2023-01-07T15:58:54.744282Z"
    },
    "id": "mdRYTjt5Hz_B"
   },
   "outputs": [],
   "source": [
    "df.head()"
   ]
  },
  {
   "cell_type": "code",
   "execution_count": null,
   "metadata": {
    "execution": {
     "iopub.execute_input": "2023-01-07T16:01:28.729071Z",
     "iopub.status.busy": "2023-01-07T16:01:28.728691Z",
     "iopub.status.idle": "2023-01-07T16:01:28.742903Z",
     "shell.execute_reply": "2023-01-07T16:01:28.741571Z",
     "shell.execute_reply.started": "2023-01-07T16:01:28.72904Z"
    },
    "id": "36f0H0nRHz_G"
   },
   "outputs": [],
   "source": [
    "df['char_length'] = df['review'].str.len()"
   ]
  },
  {
   "cell_type": "code",
   "execution_count": null,
   "metadata": {
    "execution": {
     "iopub.execute_input": "2023-01-07T16:01:33.925321Z",
     "iopub.status.busy": "2023-01-07T16:01:33.924882Z",
     "iopub.status.idle": "2023-01-07T16:01:33.943975Z",
     "shell.execute_reply": "2023-01-07T16:01:33.942853Z",
     "shell.execute_reply.started": "2023-01-07T16:01:33.925287Z"
    },
    "id": "6mb5thK6Hz_H"
   },
   "outputs": [],
   "source": [
    "df.head()"
   ]
  },
  {
   "cell_type": "code",
   "execution_count": null,
   "metadata": {
    "execution": {
     "iopub.execute_input": "2023-01-07T16:02:24.272529Z",
     "iopub.status.busy": "2023-01-07T16:02:24.271986Z",
     "iopub.status.idle": "2023-01-07T16:02:24.286056Z",
     "shell.execute_reply": "2023-01-07T16:02:24.284417Z",
     "shell.execute_reply.started": "2023-01-07T16:02:24.272481Z"
    },
    "id": "-1puG6WlHz_H"
   },
   "outputs": [],
   "source": [
    "df['word_length'] = df['tokenized_review'].apply(len)"
   ]
  },
  {
   "cell_type": "code",
   "execution_count": null,
   "metadata": {
    "execution": {
     "iopub.execute_input": "2023-01-07T16:02:52.4502Z",
     "iopub.status.busy": "2023-01-07T16:02:52.44976Z",
     "iopub.status.idle": "2023-01-07T16:02:52.644413Z",
     "shell.execute_reply": "2023-01-07T16:02:52.642949Z",
     "shell.execute_reply.started": "2023-01-07T16:02:52.450167Z"
    },
    "id": "ZiJgq2XAHz_H"
   },
   "outputs": [],
   "source": [
    "import seaborn as sns"
   ]
  },
  {
   "cell_type": "code",
   "execution_count": null,
   "metadata": {
    "execution": {
     "iopub.execute_input": "2023-01-07T16:06:38.897672Z",
     "iopub.status.busy": "2023-01-07T16:06:38.897234Z",
     "iopub.status.idle": "2023-01-07T16:06:39.335553Z",
     "shell.execute_reply": "2023-01-07T16:06:39.334395Z",
     "shell.execute_reply.started": "2023-01-07T16:06:38.897639Z"
    },
    "id": "F7jG-aZpHz_I"
   },
   "outputs": [],
   "source": [
    "sns.distplot(df[df['sentiment'] == 'positive']['char_length'])\n",
    "sns.distplot(df[df['sentiment'] == 'negative']['char_length'])"
   ]
  },
  {
   "cell_type": "code",
   "execution_count": null,
   "metadata": {
    "execution": {
     "iopub.execute_input": "2023-01-07T16:08:24.621144Z",
     "iopub.status.busy": "2023-01-07T16:08:24.620721Z",
     "iopub.status.idle": "2023-01-07T16:08:25.036314Z",
     "shell.execute_reply": "2023-01-07T16:08:25.035352Z",
     "shell.execute_reply.started": "2023-01-07T16:08:24.62111Z"
    },
    "id": "syFQzJ83Hz_I"
   },
   "outputs": [],
   "source": [
    "sns.distplot(df[df['sentiment'] == 'positive']['word_length'])\n",
    "sns.distplot(df[df['sentiment'] == 'negative']['word_length'])"
   ]
  },
  {
   "cell_type": "code",
   "execution_count": null,
   "metadata": {
    "execution": {
     "iopub.execute_input": "2023-01-07T16:16:27.20214Z",
     "iopub.status.busy": "2023-01-07T16:16:27.201725Z",
     "iopub.status.idle": "2023-01-07T16:16:27.216431Z",
     "shell.execute_reply": "2023-01-07T16:16:27.215299Z",
     "shell.execute_reply.started": "2023-01-07T16:16:27.202106Z"
    },
    "id": "5zzcQSKgHz_I"
   },
   "outputs": [],
   "source": [
    "df['tokenized_review'].sum()"
   ]
  },
  {
   "cell_type": "code",
   "execution_count": null,
   "metadata": {
    "execution": {
     "iopub.execute_input": "2023-01-07T16:17:07.586561Z",
     "iopub.status.busy": "2023-01-07T16:17:07.585456Z",
     "iopub.status.idle": "2023-01-07T16:19:35.580547Z",
     "shell.execute_reply": "2023-01-07T16:19:35.57934Z",
     "shell.execute_reply.started": "2023-01-07T16:17:07.586495Z"
    },
    "id": "uldWEybAHz_I"
   },
   "outputs": [],
   "source": [
    "from nltk import ngrams\n",
    "\n",
    "pd.Series(ngrams(df['tokenized_review'].sum(),2)).value_counts()"
   ]
  },
  {
   "cell_type": "code",
   "execution_count": null,
   "metadata": {
    "id": "GJU4-cxiHz_I"
   },
   "outputs": [],
   "source": [
    "pd.Series(ngrams(df['tokenized_review'].sum(),3)).value_counts()"
   ]
  },
  {
   "cell_type": "code",
   "execution_count": null,
   "metadata": {
    "execution": {
     "iopub.execute_input": "2023-01-07T16:23:15.865148Z",
     "iopub.status.busy": "2023-01-07T16:23:15.864693Z",
     "iopub.status.idle": "2023-01-07T16:23:25.495694Z",
     "shell.execute_reply": "2023-01-07T16:23:25.494445Z",
     "shell.execute_reply.started": "2023-01-07T16:23:15.86511Z"
    },
    "id": "C8jz80dsHz_J"
   },
   "outputs": [],
   "source": [
    "from wordcloud import WordCloud\n",
    "import matplotlib.pyplot as plt\n",
    "\n",
    "plt.figure(figsize = (20,20)) # Positive Review Text\n",
    "wc = WordCloud(width = 1600 , height = 800).generate(\" \".join(df[df['sentiment'] == 'positive']['review']))\n",
    "plt.imshow(wc)"
   ]
  },
  {
   "cell_type": "code",
   "execution_count": null,
   "metadata": {
    "execution": {
     "iopub.execute_input": "2023-01-07T16:23:33.904935Z",
     "iopub.status.busy": "2023-01-07T16:23:33.904168Z",
     "iopub.status.idle": "2023-01-07T16:23:43.427675Z",
     "shell.execute_reply": "2023-01-07T16:23:43.426421Z",
     "shell.execute_reply.started": "2023-01-07T16:23:33.904895Z"
    },
    "id": "F9rH3dXrHz_J"
   },
   "outputs": [],
   "source": [
    "from wordcloud import WordCloud\n",
    "import matplotlib.pyplot as plt\n",
    "\n",
    "plt.figure(figsize = (20,20)) # Positive Review Text\n",
    "wc = WordCloud(width = 1600 , height = 800).generate(\" \".join(df[df['sentiment'] == 'negative']['review']))\n",
    "plt.imshow(wc)"
   ]
  },
  {
   "cell_type": "code",
   "execution_count": null,
   "metadata": {
    "execution": {
     "iopub.execute_input": "2023-01-07T16:32:48.725776Z",
     "iopub.status.busy": "2023-01-07T16:32:48.725363Z",
     "iopub.status.idle": "2023-01-07T16:33:04.266483Z",
     "shell.execute_reply": "2023-01-07T16:33:04.265351Z",
     "shell.execute_reply.started": "2023-01-07T16:32:48.72574Z"
    },
    "id": "eVe2f3RVHz_J"
   },
   "outputs": [],
   "source": [
    "# BoW\n",
    "\n",
    "from sklearn.feature_extraction.text import CountVectorizer\n",
    "count_vectorizer = CountVectorizer(max_features=5000,ngram_range=(1,3))\n",
    "bag_of_words = count_vectorizer.fit_transform(df['review'])\n",
    "bag_of_words = pd.DataFrame(bag_of_words.toarray(),columns = count_vectorizer.get_feature_names())"
   ]
  },
  {
   "cell_type": "code",
   "execution_count": null,
   "metadata": {
    "execution": {
     "iopub.execute_input": "2023-01-07T16:33:04.26833Z",
     "iopub.status.busy": "2023-01-07T16:33:04.267987Z",
     "iopub.status.idle": "2023-01-07T16:33:04.298474Z",
     "shell.execute_reply": "2023-01-07T16:33:04.297314Z",
     "shell.execute_reply.started": "2023-01-07T16:33:04.268298Z"
    },
    "id": "P5kVGg3BHz_J"
   },
   "outputs": [],
   "source": [
    "bag_of_words"
   ]
  },
  {
   "cell_type": "code",
   "execution_count": null,
   "metadata": {
    "execution": {
     "iopub.execute_input": "2023-01-07T16:34:32.296883Z",
     "iopub.status.busy": "2023-01-07T16:34:32.296393Z",
     "iopub.status.idle": "2023-01-07T16:34:37.218394Z",
     "shell.execute_reply": "2023-01-07T16:34:37.217002Z",
     "shell.execute_reply.started": "2023-01-07T16:34:32.296841Z"
    },
    "id": "A5EdUs_nHz_J"
   },
   "outputs": [],
   "source": [
    "from sklearn.decomposition import PCA\n",
    "\n",
    "pca = PCA(n_components=2)\n",
    "pca_result = pca.fit_transform(bag_of_words.values)"
   ]
  },
  {
   "cell_type": "code",
   "execution_count": null,
   "metadata": {
    "execution": {
     "iopub.execute_input": "2023-01-07T16:34:46.478167Z",
     "iopub.status.busy": "2023-01-07T16:34:46.477669Z",
     "iopub.status.idle": "2023-01-07T16:34:46.485643Z",
     "shell.execute_reply": "2023-01-07T16:34:46.484456Z",
     "shell.execute_reply.started": "2023-01-07T16:34:46.478119Z"
    },
    "id": "VtKiRVwGHz_K"
   },
   "outputs": [],
   "source": [
    "pca_result.shape"
   ]
  },
  {
   "cell_type": "code",
   "execution_count": null,
   "metadata": {
    "execution": {
     "iopub.execute_input": "2023-01-07T16:36:05.556024Z",
     "iopub.status.busy": "2023-01-07T16:36:05.554505Z",
     "iopub.status.idle": "2023-01-07T16:36:06.376502Z",
     "shell.execute_reply": "2023-01-07T16:36:06.375272Z",
     "shell.execute_reply.started": "2023-01-07T16:36:05.555974Z"
    },
    "id": "V7ZWA53IHz_K"
   },
   "outputs": [],
   "source": [
    "sns.scatterplot(pca_result[:,0],pca_result[:,1],hue=df['sentiment'])"
   ]
  },
  {
   "cell_type": "code",
   "execution_count": null,
   "metadata": {
    "id": "8RKHtbT-Hz_K"
   },
   "outputs": [],
   "source": []
  }
 ],
 "metadata": {
  "colab": {
   "name": "pandas-on-nlp-data",
   "provenance": []
  },
  "kernelspec": {
   "display_name": "Python 3 (ipykernel)",
   "language": "python",
   "name": "python3"
  },
  "language_info": {
   "codemirror_mode": {
    "name": "ipython",
    "version": 3
   },
   "file_extension": ".py",
   "mimetype": "text/x-python",
   "name": "python",
   "nbconvert_exporter": "python",
   "pygments_lexer": "ipython3",
   "version": "3.9.13"
  }
 },
 "nbformat": 4,
 "nbformat_minor": 1
}
