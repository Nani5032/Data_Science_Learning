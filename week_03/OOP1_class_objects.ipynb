{
 "cells": [
  {
   "cell_type": "code",
   "execution_count": 65,
   "id": "0c23694f",
   "metadata": {},
   "outputs": [],
   "source": [
    "class Atm:\n",
    "    def __init__(any_word):\n",
    "        print('self address', id(any_word))\n",
    "        any_word.pin = ''\n",
    "        any_word.balance = 0"
   ]
  },
  {
   "cell_type": "code",
   "execution_count": 66,
   "id": "7a2027f9",
   "metadata": {},
   "outputs": [
    {
     "name": "stdout",
     "output_type": "stream",
     "text": [
      "self address 140153906838400\n",
      "obj1 address 140153906838400\n"
     ]
    }
   ],
   "source": [
    "obj1 = Atm()\n",
    "print('obj1 address', id(obj1))"
   ]
  },
  {
   "cell_type": "code",
   "execution_count": 67,
   "id": "20b83fcc",
   "metadata": {},
   "outputs": [
    {
     "name": "stdout",
     "output_type": "stream",
     "text": [
      "self address 140153906838496\n",
      "obj1 address 140153906838496\n"
     ]
    }
   ],
   "source": [
    "obj2 = Atm()\n",
    "print('obj1 address', id(obj2))"
   ]
  },
  {
   "cell_type": "code",
   "execution_count": 3,
   "id": "eee8548e",
   "metadata": {},
   "outputs": [
    {
     "name": "stdout",
     "output_type": "stream",
     "text": [
      "<class '__main__.Atm'>\n"
     ]
    }
   ],
   "source": [
    "print(type(obj1))"
   ]
  },
  {
   "cell_type": "code",
   "execution_count": 54,
   "id": "80bbc7e4",
   "metadata": {},
   "outputs": [],
   "source": [
    "class Atm:\n",
    "    def __init__(self):\n",
    "        self.pin = ''\n",
    "        self.balance = 6549648314984641\n",
    "        self.menu()\n",
    "    def menu(self):\n",
    "        user_input = input(\"how can i help you,1-create_pin, 2-change_pin, 3-check_balance, 4-withdraw : \")\n",
    "        if user_input == '1':\n",
    "            self.create_pin()\n",
    "        elif user_input == '2':\n",
    "            self.change_pin()\n",
    "        elif user_input == '3':\n",
    "            self.check_balance()\n",
    "        elif user_input == '4':\n",
    "            self.withdraw()\n",
    "        else:\n",
    "            pass #exit()\n",
    "        \n",
    "    def create_pin(self):\n",
    "        user_pin = input('enter your pin')\n",
    "        self.pin = user_pin\n",
    "        print('pin created succcessfully')\n",
    "        self.menu()\n",
    "        \n",
    "    def change_pin(self):\n",
    "        old_pin = input('enter existing pin')\n",
    "        if old_pin == self.pin:\n",
    "            new_pin = input('old pin is validated, now enter new pin you want to set')\n",
    "            self.pin = new_pin\n",
    "            print(self.pin)\n",
    "        else:\n",
    "            print('wrong pin')\n",
    "        self.menu()\n",
    "            \n",
    "    def check_balance(self):\n",
    "        user_pin = input('enter pin')\n",
    "        if user_pin == self.pin:\n",
    "            print('your balance is ', self.balance)\n",
    "        else:\n",
    "            print('pin not validated')\n",
    "        self.menu()\n",
    "    \n",
    "    def withdraw(self):\n",
    "        user_pin = input('enter pin')\n",
    "        if user_pin == self.pin:\n",
    "            amount = int(input('enter amount'))\n",
    "            print('balance before withdraw', self.balance)\n",
    "            if amount <= self.balance:\n",
    "                self.balance = self.balance - amount\n",
    "                print('remaining balance is', self.balance)\n",
    "            else:\n",
    "                print('you dont have sufficient balance')\n",
    "        else:\n",
    "            print('wrong pin')\n",
    "        self.menu()\n",
    "        \n",
    "        \n",
    "        "
   ]
  },
  {
   "cell_type": "code",
   "execution_count": 59,
   "id": "37693aea",
   "metadata": {},
   "outputs": [
    {
     "name": "stdout",
     "output_type": "stream",
     "text": [
      "how can i help you,1-create_pin, 2-change_pin, 3-check_balance, 4-withdraw : 1\n",
      "enter your pin1212\n",
      "pin created succcessfully\n",
      "how can i help you,1-create_pin, 2-change_pin, 3-check_balance, 4-withdraw : 4\n",
      "enter pin1212\n",
      "enter amount3687692871374697813681473687143763817676378346\n",
      "balance before withdraw 6549648314984641\n",
      "you dont have sufficient balance\n",
      "how can i help you,1-create_pin, 2-change_pin, 3-check_balance, 4-withdraw : 6\n"
     ]
    }
   ],
   "source": [
    "obj2 = Atm()"
   ]
  },
  {
   "cell_type": "code",
   "execution_count": 68,
   "id": "1dd1868e",
   "metadata": {},
   "outputs": [],
   "source": [
    "# funcitons vs methods\n",
    "\n",
    "lst1 = [1,2,3]\n",
    "len(lst1) # this is a funciton -> because it is outside the list class\n",
    "lst1.append(4) # this is a method -> because it is inside the list class"
   ]
  },
  {
   "cell_type": "code",
   "execution_count": 71,
   "id": "53a18146",
   "metadata": {},
   "outputs": [],
   "source": [
    "# we are creating fraction data type\n",
    "\n",
    "class Fraction:\n",
    "    # parameterised constructor, we are providing inputs while creating object\n",
    "    def __init__(self, x, y):\n",
    "        self.numertor = x\n",
    "        self.denominator = y"
   ]
  },
  {
   "cell_type": "code",
   "execution_count": 72,
   "id": "b622f2c2",
   "metadata": {},
   "outputs": [
    {
     "name": "stdout",
     "output_type": "stream",
     "text": [
      "<__main__.Fraction object at 0x7f781fd4b070>\n"
     ]
    }
   ],
   "source": [
    "fr1 = Fraction(3,4)\n",
    "print(fr1)\n",
    "# the print is printing it in a way that fraction object is present at this memory location "
   ]
  },
  {
   "cell_type": "code",
   "execution_count": 74,
   "id": "0a9ce2b4",
   "metadata": {},
   "outputs": [],
   "source": [
    "class Fraction:\n",
    "    # parameterised constructor, we are providing inputs while creating object\n",
    "    def __init__(self, x, y):\n",
    "        self.numertor = x\n",
    "        self.denominator = y\n",
    "    def __str__(self):\n",
    "        return 'this is what i want to print'"
   ]
  },
  {
   "cell_type": "code",
   "execution_count": 76,
   "id": "d7ecfe76",
   "metadata": {},
   "outputs": [
    {
     "name": "stdout",
     "output_type": "stream",
     "text": [
      "this is what i want to print\n"
     ]
    }
   ],
   "source": [
    "fr2 = Fraction(3,4)\n",
    "print(fr2)\n",
    "# when we want to print our object pthon will find  __str__ and figures out how to print the object, \n",
    "# if we dont specify __str__ then it will print the object at memory location"
   ]
  },
  {
   "cell_type": "code",
   "execution_count": 77,
   "id": "7657881b",
   "metadata": {},
   "outputs": [],
   "source": [
    "class Fraction:\n",
    "    # parameterised constructor, we are providing inputs while creating object\n",
    "    def __init__(self, x, y):\n",
    "        self.numertor = x\n",
    "        self.denominator = y\n",
    "    def __str__(self):\n",
    "        return '{}/{}'.format(self.numertor, self.denominator)"
   ]
  },
  {
   "cell_type": "code",
   "execution_count": 80,
   "id": "7dbd9ed5",
   "metadata": {},
   "outputs": [
    {
     "name": "stdout",
     "output_type": "stream",
     "text": [
      "3/5\n"
     ]
    }
   ],
   "source": [
    "fr3 = Fraction(3,5)\n",
    "print(fr3)\n",
    "\n",
    "# basically if we put any object inside print funciton, then __str__ code will be executed"
   ]
  },
  {
   "cell_type": "code",
   "execution_count": 84,
   "id": "efd7e466",
   "metadata": {},
   "outputs": [],
   "source": [
    "class Fraction:\n",
    "    # parameterised constructor, we are providing inputs while creating object\n",
    "    def __init__(self, x, y):\n",
    "        self.numertor = x\n",
    "        self.denominator = y\n",
    "    def __str__(self):\n",
    "        return '{}/{}'.format(self.numertor, self.denominator)\n",
    "    def __add__(self, other):\n",
    "        \n",
    "        new_numertor = self.numertor*other.denominator + other.numertor*self.denominator\n",
    "        new_denominator = self.denominator*other.denominator\n",
    "        return '{}/{}'.format(new_numertor, new_denominator)\n",
    "    "
   ]
  },
  {
   "cell_type": "code",
   "execution_count": 85,
   "id": "7330ab95",
   "metadata": {},
   "outputs": [],
   "source": [
    "fr1 = Fraction(1,2)\n",
    "fr2 = Fraction(3,4)"
   ]
  },
  {
   "cell_type": "code",
   "execution_count": 86,
   "id": "512940de",
   "metadata": {},
   "outputs": [
    {
     "name": "stdout",
     "output_type": "stream",
     "text": [
      "10/8\n"
     ]
    }
   ],
   "source": [
    "print(fr1 + fr2)\n",
    "# fr1 will go and sit in self, fr2 will go and sit in other, in the __add__ method"
   ]
  },
  {
   "cell_type": "code",
   "execution_count": 88,
   "id": "aeb45678",
   "metadata": {},
   "outputs": [],
   "source": [
    "class Fraction:\n",
    "\n",
    "  # parameterized constructor\n",
    "  def __init__(self,x,y):\n",
    "    self.num = x\n",
    "    self.den = y\n",
    "    \n",
    "  def __str__(self):\n",
    "    return '{}/{}'.format(self.num,self.den)\n",
    "\n",
    "  def __add__(self,other):\n",
    "    new_num = self.num*other.den + other.num*self.den\n",
    "    new_den = self.den*other.den\n",
    "\n",
    "    return '{}/{}'.format(new_num,new_den)\n",
    "\n",
    "  def __sub__(self,other):\n",
    "    new_num = self.num*other.den - other.num*self.den\n",
    "    new_den = self.den*other.den\n",
    "\n",
    "    return '{}/{}'.format(new_num,new_den)\n",
    "\n",
    "  def __mul__(self,other):\n",
    "    new_num = self.num*other.num\n",
    "    new_den = self.den*other.den\n",
    "\n",
    "    return '{}/{}'.format(new_num,new_den)\n",
    "\n",
    "  def __truediv__(self,other):\n",
    "    new_num = self.num*other.den\n",
    "    new_den = self.den*other.num\n",
    "\n",
    "    return '{}/{}'.format(new_num,new_den)\n",
    "\n",
    "  def convert_to_decimal(self):\n",
    "    return self.num/self.den"
   ]
  },
  {
   "cell_type": "code",
   "execution_count": 89,
   "id": "769f5fa3",
   "metadata": {},
   "outputs": [],
   "source": [
    "fr1 = Fraction(3,4)\n",
    "fr2 = Fraction(1,2)"
   ]
  },
  {
   "cell_type": "code",
   "execution_count": 90,
   "id": "d3a65262",
   "metadata": {},
   "outputs": [
    {
     "name": "stdout",
     "output_type": "stream",
     "text": [
      "10/8\n",
      "2/8\n",
      "3/8\n",
      "6/4\n"
     ]
    }
   ],
   "source": [
    "print(fr1 + fr2)\n",
    "print(fr1 - fr2)\n",
    "print(fr1 * fr2)\n",
    "print(fr1 / fr2)"
   ]
  },
  {
   "cell_type": "code",
   "execution_count": 91,
   "id": "9c8240c3",
   "metadata": {},
   "outputs": [
    {
     "data": {
      "text/plain": [
       "0.75"
      ]
     },
     "execution_count": 91,
     "metadata": {},
     "output_type": "execute_result"
    }
   ],
   "source": [
    "fr1.convert_to_decimal()"
   ]
  },
  {
   "cell_type": "code",
   "execution_count": null,
   "id": "37deb564",
   "metadata": {},
   "outputs": [],
   "source": []
  }
 ],
 "metadata": {
  "kernelspec": {
   "display_name": "Python 3 (ipykernel)",
   "language": "python",
   "name": "python3"
  },
  "language_info": {
   "codemirror_mode": {
    "name": "ipython",
    "version": 3
   },
   "file_extension": ".py",
   "mimetype": "text/x-python",
   "name": "python",
   "nbconvert_exporter": "python",
   "pygments_lexer": "ipython3",
   "version": "3.9.13"
  }
 },
 "nbformat": 4,
 "nbformat_minor": 5
}
