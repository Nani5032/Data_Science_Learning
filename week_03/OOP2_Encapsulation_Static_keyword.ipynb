{
 "cells": [
  {
   "cell_type": "markdown",
   "id": "b34e24c2",
   "metadata": {},
   "source": [
    "### Write OOP classes to handle the following scenarios:\n",
    "\n",
    "- A user can create and view 2D coordinates\n",
    "- A user can find out the distance between 2 coordinates\n",
    "- A user can find find the distance of a coordinate from origin\n",
    "- A user can check if a point lies on a given line\n",
    "- A user can find the distance between a given 2D point and a given line"
   ]
  },
  {
   "cell_type": "code",
   "execution_count": 26,
   "id": "82a66e75",
   "metadata": {},
   "outputs": [],
   "source": [
    "class Point:\n",
    "    def __init__(self, x, y):\n",
    "        self.x_cod = x\n",
    "        self.y_cod = y\n",
    "        \n",
    "    def __str__(self):\n",
    "        return '({},{})'.format(self.x_cod, self.y_cod)\n",
    "    \n",
    "    def euclidean_distance(self, other):\n",
    "        return ((self.x_cod - other.x_cod)**2 + (self.y_cod - other.y_cod)**2)**0.5\n",
    "    \n",
    "    def distance_from_origin(self):\n",
    "        #return ((self.x_cod**2) + (self.x_cod**2))**0.5\n",
    "        return self.euclidean_distance(Point(0,0)) # this is creating class object inside class\n",
    "        "
   ]
  },
  {
   "cell_type": "code",
   "execution_count": 27,
   "id": "6d5144a7",
   "metadata": {},
   "outputs": [
    {
     "name": "stdout",
     "output_type": "stream",
     "text": [
      "(0,0)\n",
      "(1,1)\n"
     ]
    },
    {
     "data": {
      "text/plain": [
       "1.4142135623730951"
      ]
     },
     "execution_count": 27,
     "metadata": {},
     "output_type": "execute_result"
    }
   ],
   "source": [
    "# we are creating 2 objects p1 and p2 and and then finding distancce between those 2 points\n",
    "p1 = Point(0, 0)\n",
    "p2 = Point(1, 1)\n",
    "p3 = Point(10, 10)\n",
    "print(p1)\n",
    "print(p2)\n",
    "p1.euclidean_distance(p2)"
   ]
  },
  {
   "cell_type": "code",
   "execution_count": 28,
   "id": "71b32ec7",
   "metadata": {},
   "outputs": [
    {
     "data": {
      "text/plain": [
       "14.142135623730951"
      ]
     },
     "execution_count": 28,
     "metadata": {},
     "output_type": "execute_result"
    }
   ],
   "source": [
    "p3.distance_from_origin()"
   ]
  },
  {
   "cell_type": "code",
   "execution_count": 41,
   "id": "cdf72914",
   "metadata": {},
   "outputs": [],
   "source": [
    "class Line:\n",
    "    def __init__(self, a, b, c):\n",
    "        self.a = a\n",
    "        self.b = b\n",
    "        self.c = c\n",
    "    def __str__(self):\n",
    "        return '{}x + {}y + {}c = 0'.format(self.a, self.b, self.c)\n",
    "    \n",
    "    def point_on_line(line, point):\n",
    "        if (line.a * point.x_cod) + (line.b * point.y_cod) + (line.c) == 0:\n",
    "                return 'lies on the line'\n",
    "        else:\n",
    "            return 'does not lie'\n",
    "    def shortest_distance(line, point):\n",
    "        return abs(line.a * point.x_cod + line.b * point.y_cod + line.c) / (line.a**2 + line.b**2)**0.5\n",
    "    def intersection_point(line, second_line):\n",
    "        pass # task"
   ]
  },
  {
   "cell_type": "code",
   "execution_count": 37,
   "id": "1c2d2d65",
   "metadata": {},
   "outputs": [
    {
     "name": "stdout",
     "output_type": "stream",
     "text": [
      "(1,1)\n",
      "1x + 1y + -2c = 0\n"
     ]
    },
    {
     "data": {
      "text/plain": [
       "'lies on the line'"
      ]
     },
     "execution_count": 37,
     "metadata": {},
     "output_type": "execute_result"
    }
   ],
   "source": [
    "l1 = Line(1,1,-2)\n",
    "p4 = Point(1,1)\n",
    "print(p4)\n",
    "print(l1)\n",
    "\n",
    "l1.point_on_line(p4)\n"
   ]
  },
  {
   "cell_type": "code",
   "execution_count": 39,
   "id": "e3f2b3ff",
   "metadata": {},
   "outputs": [
    {
     "data": {
      "text/plain": [
       "0.0"
      ]
     },
     "execution_count": 39,
     "metadata": {},
     "output_type": "execute_result"
    }
   ],
   "source": [
    "l1.shortest_distance(p4) # line lies on line, shortest distance is 0"
   ]
  },
  {
   "cell_type": "code",
   "execution_count": 50,
   "id": "666ae371",
   "metadata": {},
   "outputs": [],
   "source": [
    "# how objects access attributes\n",
    "\n",
    "class Person:\n",
    "    def __init__(self, name, country):\n",
    "        self.name = name\n",
    "        self.country = country\n",
    "        \n",
    "    def greet(self):\n",
    "        if self.country == 'india':\n",
    "            print('Namasthe ', self.name)\n",
    "        else:\n",
    "            print('Hello ', self.name)"
   ]
  },
  {
   "cell_type": "code",
   "execution_count": 51,
   "id": "29acfb03",
   "metadata": {},
   "outputs": [],
   "source": [
    "# creating object\n",
    "p1 = Person('teja', 'india')"
   ]
  },
  {
   "cell_type": "code",
   "execution_count": 52,
   "id": "a42f84a7",
   "metadata": {},
   "outputs": [
    {
     "data": {
      "text/plain": [
       "'teja'"
      ]
     },
     "execution_count": 52,
     "metadata": {},
     "output_type": "execute_result"
    }
   ],
   "source": [
    "# accessing attributes\n",
    "p1.name"
   ]
  },
  {
   "cell_type": "code",
   "execution_count": 53,
   "id": "88c09dbf",
   "metadata": {},
   "outputs": [
    {
     "name": "stdout",
     "output_type": "stream",
     "text": [
      "Namasthe  teja\n"
     ]
    }
   ],
   "source": [
    "# accessing methods\n",
    "p1.greet()"
   ]
  },
  {
   "cell_type": "code",
   "execution_count": 54,
   "id": "e8b1cb10",
   "metadata": {},
   "outputs": [
    {
     "ename": "AttributeError",
     "evalue": "'Person' object has no attribute 'gender'",
     "output_type": "error",
     "traceback": [
      "\u001b[0;31m---------------------------------------------------------------------------\u001b[0m",
      "\u001b[0;31mAttributeError\u001b[0m                            Traceback (most recent call last)",
      "\u001b[0;32m/var/folders/hj/y7vbknkn2fb8_j48tgq607wh0000gn/T/ipykernel_771/1664573371.py\u001b[0m in \u001b[0;36m<module>\u001b[0;34m\u001b[0m\n\u001b[1;32m      1\u001b[0m \u001b[0;31m# if we try to access non- existent attributes\u001b[0m\u001b[0;34m\u001b[0m\u001b[0;34m\u001b[0m\u001b[0m\n\u001b[0;32m----> 2\u001b[0;31m \u001b[0mp1\u001b[0m\u001b[0;34m.\u001b[0m\u001b[0mgender\u001b[0m\u001b[0;34m\u001b[0m\u001b[0;34m\u001b[0m\u001b[0m\n\u001b[0m",
      "\u001b[0;31mAttributeError\u001b[0m: 'Person' object has no attribute 'gender'"
     ]
    }
   ],
   "source": [
    "# if we try to access non- existent attributes\n",
    "p1.gender"
   ]
  },
  {
   "cell_type": "code",
   "execution_count": 55,
   "id": "20dddb36",
   "metadata": {},
   "outputs": [],
   "source": [
    "# Attribute creation from outside of the class\n",
    "p1.gender = 'male'"
   ]
  },
  {
   "cell_type": "code",
   "execution_count": 56,
   "id": "32baa47d",
   "metadata": {},
   "outputs": [
    {
     "data": {
      "text/plain": [
       "'male'"
      ]
     },
     "execution_count": 56,
     "metadata": {},
     "output_type": "execute_result"
    }
   ],
   "source": [
    "p1.gender"
   ]
  },
  {
   "cell_type": "code",
   "execution_count": 60,
   "id": "85da1031",
   "metadata": {},
   "outputs": [],
   "source": [
    "p2 = Person('phani', 'india')"
   ]
  },
  {
   "cell_type": "code",
   "execution_count": 61,
   "id": "2fe07178",
   "metadata": {},
   "outputs": [
    {
     "ename": "AttributeError",
     "evalue": "'Person' object has no attribute 'gender'",
     "output_type": "error",
     "traceback": [
      "\u001b[0;31m---------------------------------------------------------------------------\u001b[0m",
      "\u001b[0;31mAttributeError\u001b[0m                            Traceback (most recent call last)",
      "\u001b[0;32m/var/folders/hj/y7vbknkn2fb8_j48tgq607wh0000gn/T/ipykernel_771/805710035.py\u001b[0m in \u001b[0;36m<module>\u001b[0;34m\u001b[0m\n\u001b[0;32m----> 1\u001b[0;31m \u001b[0mp2\u001b[0m\u001b[0;34m.\u001b[0m\u001b[0mgender\u001b[0m\u001b[0;34m\u001b[0m\u001b[0;34m\u001b[0m\u001b[0m\n\u001b[0m",
      "\u001b[0;31mAttributeError\u001b[0m: 'Person' object has no attribute 'gender'"
     ]
    }
   ],
   "source": [
    "p2.gender"
   ]
  },
  {
   "cell_type": "markdown",
   "id": "4e02826e",
   "metadata": {},
   "source": [
    "### Reference Variables\n",
    "\n",
    "- Reference variables hold the objects\n",
    "- We can create objects without reference variable as well\n",
    "- An object can have multiple reference variables\n",
    "- Assigning a new reference variable to an existing object does not create a new object"
   ]
  },
  {
   "cell_type": "code",
   "execution_count": 1,
   "id": "daa476e3",
   "metadata": {},
   "outputs": [
    {
     "data": {
      "text/plain": [
       "<__main__.Person at 0x7fdd43837370>"
      ]
     },
     "execution_count": 1,
     "metadata": {},
     "output_type": "execute_result"
    }
   ],
   "source": [
    "# object without a reference\n",
    "class Person:\n",
    "\n",
    "  def __init__(self):\n",
    "    self.name = 'nitish'\n",
    "    self.gender = 'male'\n",
    "\n",
    "Person() # this is creating object without a reference variable"
   ]
  },
  {
   "cell_type": "code",
   "execution_count": 2,
   "id": "9e587c0f",
   "metadata": {},
   "outputs": [
    {
     "name": "stdout",
     "output_type": "stream",
     "text": [
      "140588297353824\n",
      "140588297353824\n"
     ]
    }
   ],
   "source": [
    "p = Person()\n",
    "q = p\n",
    "print(id(p))\n",
    "print(id(q))"
   ]
  },
  {
   "cell_type": "code",
   "execution_count": 3,
   "id": "7e8350e5",
   "metadata": {},
   "outputs": [
    {
     "name": "stdout",
     "output_type": "stream",
     "text": [
      "nitish\n",
      "nitish\n",
      "ankit\n",
      "ankit\n"
     ]
    }
   ],
   "source": [
    "# changing name values with second reference variable\n",
    "print(p.name)\n",
    "print(q.name)\n",
    "q.name = 'ankit'\n",
    "print(q.name)\n",
    "print(p.name)"
   ]
  },
  {
   "cell_type": "markdown",
   "id": "d7a07381",
   "metadata": {},
   "source": [
    "### Pass by reference"
   ]
  },
  {
   "cell_type": "code",
   "execution_count": 69,
   "id": "89a3211f",
   "metadata": {},
   "outputs": [
    {
     "name": "stdout",
     "output_type": "stream",
     "text": [
      "Hi my name is nitish and I am a male\n",
      "ankit male\n"
     ]
    }
   ],
   "source": [
    "class Person:\n",
    "\n",
    "  def __init__(self,name,gender):\n",
    "    self.name = name\n",
    "    self.gender = gender\n",
    "\n",
    "# outside the class -> function\n",
    "def greet(person): # we are giving object as input to a funciton\n",
    "    print('Hi my name is',person.name,'and I am a',person.gender)\n",
    "    p1 = Person('ankit', 'male')\n",
    "    return p1 # function is returning an object of Person class\n",
    "\n",
    "p = Person('nitish','male')\n",
    "x = greet(p) # the returned object is held by x which is a reference variable\n",
    "print(x.name, x.gender)"
   ]
  },
  {
   "cell_type": "code",
   "execution_count": 70,
   "id": "fcc92bdc",
   "metadata": {},
   "outputs": [
    {
     "name": "stdout",
     "output_type": "stream",
     "text": [
      "140364800407440\n",
      "140364800407440\n",
      "Hi my name is nitish and I am a male\n"
     ]
    }
   ],
   "source": [
    "class Person:\n",
    "\n",
    "  def __init__(self,name,gender):\n",
    "    self.name = name\n",
    "    self.gender = gender\n",
    "\n",
    "# outside the class -> function\n",
    "def greet(person): # we are giving object as input to a funciton\n",
    "    print(id(p))\n",
    "    print('Hi my name is',person.name,'and I am a',person.gender)\n",
    "\n",
    "p = Person('nitish','male')\n",
    "print(id(p))\n",
    "greet(p)"
   ]
  },
  {
   "cell_type": "code",
   "execution_count": 4,
   "id": "763cc8d5",
   "metadata": {},
   "outputs": [
    {
     "name": "stdout",
     "output_type": "stream",
     "text": [
      "ankit\n",
      "ankit\n"
     ]
    }
   ],
   "source": [
    "class Person:\n",
    "\n",
    "  def __init__(self,name,gender):\n",
    "    self.name = name\n",
    "    self.gender = gender\n",
    "\n",
    "# outside the class -> function\n",
    "def greet(person):\n",
    "    person.name = 'ankit'\n",
    "    print(person.name)\n",
    "\n",
    "p = Person('nitish','male')\n",
    "greet(p)\n",
    "print(p.name)"
   ]
  },
  {
   "cell_type": "code",
   "execution_count": 5,
   "id": "a9b3603c",
   "metadata": {},
   "outputs": [
    {
     "name": "stdout",
     "output_type": "stream",
     "text": [
      "140588297190080\n",
      "140588297190080\n"
     ]
    }
   ],
   "source": [
    "class Person:\n",
    "\n",
    "  def __init__(self,name,gender):\n",
    "    self.name = name\n",
    "    self.gender = gender\n",
    "\n",
    "# outside the class -> function\n",
    "def greet(person):\n",
    "    person.name = 'ankit'\n",
    "    return person\n",
    "\n",
    "p = Person('nitish','male')\n",
    "print(id(p))\n",
    "p1 = greet(p)\n",
    "print(id(p1))\n",
    "# objects are mutable, that means changes can be made inplace\n",
    "# if its immutable that means then the address whould have been changed when we changed name"
   ]
  },
  {
   "cell_type": "code",
   "execution_count": 8,
   "id": "0bf91858",
   "metadata": {},
   "outputs": [
    {
     "name": "stdout",
     "output_type": "stream",
     "text": [
      "nitish\n"
     ]
    },
    {
     "ename": "AttributeError",
     "evalue": "'Person' object has no attribute '__country'",
     "output_type": "error",
     "traceback": [
      "\u001b[0;31m---------------------------------------------------------------------------\u001b[0m",
      "\u001b[0;31mAttributeError\u001b[0m                            Traceback (most recent call last)",
      "\u001b[0;32m/var/folders/hj/y7vbknkn2fb8_j48tgq607wh0000gn/T/ipykernel_779/2084211079.py\u001b[0m in \u001b[0;36m<module>\u001b[0;34m\u001b[0m\n\u001b[1;32m     10\u001b[0m \u001b[0;34m\u001b[0m\u001b[0m\n\u001b[1;32m     11\u001b[0m \u001b[0mprint\u001b[0m\u001b[0;34m(\u001b[0m\u001b[0mp1\u001b[0m\u001b[0;34m.\u001b[0m\u001b[0mname\u001b[0m\u001b[0;34m)\u001b[0m\u001b[0;34m\u001b[0m\u001b[0;34m\u001b[0m\u001b[0m\n\u001b[0;32m---> 12\u001b[0;31m \u001b[0mprint\u001b[0m\u001b[0;34m(\u001b[0m\u001b[0mp2\u001b[0m\u001b[0;34m.\u001b[0m\u001b[0m__country\u001b[0m\u001b[0;34m)\u001b[0m\u001b[0;34m\u001b[0m\u001b[0;34m\u001b[0m\u001b[0m\n\u001b[0m",
      "\u001b[0;31mAttributeError\u001b[0m: 'Person' object has no attribute '__country'"
     ]
    }
   ],
   "source": [
    "# instance var -> python tutor\n",
    "class Person:\n",
    "\n",
    "  def __init__(self,name_input,country_input):\n",
    "    self.name = name_input\n",
    "    self.__country = country_input\n",
    "\n",
    "p1 = Person('nitish','india')\n",
    "p2 = Person('steve','australia')\n",
    "\n",
    "print(p1.name)\n",
    "print(p2.__country)"
   ]
  },
  {
   "cell_type": "markdown",
   "id": "fe75b7c0",
   "metadata": {},
   "source": [
    "### Encapsulation"
   ]
  },
  {
   "cell_type": "code",
   "execution_count": 9,
   "id": "84f598c2",
   "metadata": {},
   "outputs": [
    {
     "ename": "NameError",
     "evalue": "name '__country' is not defined",
     "output_type": "error",
     "traceback": [
      "\u001b[0;31m---------------------------------------------------------------------------\u001b[0m",
      "\u001b[0;31mNameError\u001b[0m                                 Traceback (most recent call last)",
      "\u001b[0;32m/var/folders/hj/y7vbknkn2fb8_j48tgq607wh0000gn/T/ipykernel_779/2080294353.py\u001b[0m in \u001b[0;36m<module>\u001b[0;34m\u001b[0m\n\u001b[1;32m      1\u001b[0m \u001b[0mp2\u001b[0m\u001b[0;34m.\u001b[0m\u001b[0m__country\u001b[0m \u001b[0;34m=\u001b[0m \u001b[0;34m'hehe'\u001b[0m\u001b[0;34m\u001b[0m\u001b[0;34m\u001b[0m\u001b[0m\n\u001b[0;32m----> 2\u001b[0;31m \u001b[0mprint\u001b[0m\u001b[0;34m(\u001b[0m\u001b[0m__country\u001b[0m\u001b[0;34m)\u001b[0m\u001b[0;34m\u001b[0m\u001b[0;34m\u001b[0m\u001b[0m\n\u001b[0m",
      "\u001b[0;31mNameError\u001b[0m: name '__country' is not defined"
     ]
    }
   ],
   "source": [
    "p2.__country = 'hehe'\n",
    "print(__country)"
   ]
  },
  {
   "cell_type": "code",
   "execution_count": 10,
   "id": "22413234",
   "metadata": {},
   "outputs": [
    {
     "name": "stdout",
     "output_type": "stream",
     "text": [
      "australia\n"
     ]
    }
   ],
   "source": [
    "print(p2._Person__country)"
   ]
  },
  {
   "cell_type": "code",
   "execution_count": 13,
   "id": "fa3ef122",
   "metadata": {},
   "outputs": [],
   "source": [
    "# nothing is truly private in python\n",
    "# make a habit to make all variables in a class, private \n",
    "# if you want to use private variables then use them thrugh a method\n",
    "# a variable is private that means it is not accessible outside class, but its is accessible inside class\n",
    "# other methods in class can access variables even though they are private\n",
    "# make two methods getter and setter to access the private variables\n",
    "# getter method is used to get the private variable value and setter method is to change the value\n",
    "\n",
    "\n",
    "class Atm:\n",
    "\n",
    "      # constructor(special function)->superpower ->\n",
    "      def __init__(self):\n",
    "        print(id(self))\n",
    "        self.pin = ''\n",
    "        self.__balance = 0\n",
    "        #self.menu()\n",
    "\n",
    "      def get_balance(self):\n",
    "        return self.__balance\n",
    "\n",
    "      def set_balance(self,new_value):\n",
    "        if type(new_value) == int:\n",
    "          self.__balance = new_value\n",
    "        else:\n",
    "          print('beta bahot maarenge')\n",
    "\n",
    "      def __menu(self):\n",
    "        user_input = input(\"\"\"\n",
    "        Hi how can I help you?\n",
    "        1. Press 1 to create pin\n",
    "        2. Press 2 to change pin\n",
    "        3. Press 3 to check balance\n",
    "        4. Press 4 to withdraw\n",
    "        5. Anything else to exit\n",
    "        \"\"\")\n",
    "\n",
    "        if user_input == '1':\n",
    "          self.create_pin()\n",
    "        elif user_input == '2':\n",
    "          self.change_pin()\n",
    "        elif user_input == '3':\n",
    "          self.check_balance()\n",
    "        elif user_input == '4':\n",
    "          self.withdraw()\n",
    "        else:\n",
    "          exit()\n",
    "\n",
    "      def create_pin(self):\n",
    "        user_pin = input('enter your pin')\n",
    "        self.pin = user_pin\n",
    "\n",
    "        user_balance = int(input('enter balance'))\n",
    "        self.__balance = user_balance\n",
    "\n",
    "        print('pin created successfully')\n",
    "\n",
    "      def change_pin(self):\n",
    "        old_pin = input('enter old pin')\n",
    "\n",
    "        if old_pin == self.pin:\n",
    "          # let him change the pin\n",
    "          new_pin = input('enter new pin')\n",
    "          self.pin = new_pin\n",
    "          print('pin change successful')\n",
    "        else:\n",
    "          print('nai karne de sakta re baba')\n",
    "\n",
    "      def check_balance(self):\n",
    "        user_pin = input('enter your pin')\n",
    "        if user_pin == self.pin:\n",
    "          print('your balance is ',self.__balance)\n",
    "        else:\n",
    "          print('chal nikal yahan se')\n",
    "\n",
    "      def withdraw(self):\n",
    "        user_pin = input('enter the pin')\n",
    "        if user_pin == self.pin:\n",
    "          # allow to withdraw\n",
    "          amount = int(input('enter the amount'))\n",
    "          if amount <= self.__balance:\n",
    "            self.__balance = self.__balance - amount\n",
    "            print('withdrawl successful.balance is',self.__balance)\n",
    "          else:\n",
    "            print('abe garib')\n",
    "        else:\n",
    "          print('sale chor')"
   ]
  },
  {
   "cell_type": "code",
   "execution_count": 14,
   "id": "a52455eb",
   "metadata": {},
   "outputs": [
    {
     "name": "stdout",
     "output_type": "stream",
     "text": [
      "140588298027504\n"
     ]
    }
   ],
   "source": [
    "obj = Atm()"
   ]
  },
  {
   "cell_type": "code",
   "execution_count": 15,
   "id": "a4184297",
   "metadata": {},
   "outputs": [
    {
     "data": {
      "text/plain": [
       "19354984651"
      ]
     },
     "execution_count": 15,
     "metadata": {},
     "output_type": "execute_result"
    }
   ],
   "source": [
    "obj.get_balance()\n",
    "obj.set_balance(19354984651)\n",
    "obj.get_balance()"
   ]
  },
  {
   "cell_type": "markdown",
   "id": "bcf1f874",
   "metadata": {},
   "source": [
    "### Collection of objects"
   ]
  },
  {
   "cell_type": "code",
   "execution_count": 16,
   "id": "d55f9d78",
   "metadata": {},
   "outputs": [
    {
     "name": "stdout",
     "output_type": "stream",
     "text": [
      "nitish male\n",
      "ankit male\n",
      "ankita female\n"
     ]
    }
   ],
   "source": [
    "# you can create multiple objects and you can put them in list tuple or dictionary\n",
    "\n",
    "# list of objects\n",
    "class Person:\n",
    "\n",
    "  def __init__(self,name,gender):\n",
    "    self.name = name\n",
    "    self.gender = gender\n",
    "\n",
    "p1 = Person('nitish','male')\n",
    "p2 = Person('ankit','male')\n",
    "p3 = Person('ankita','female')\n",
    "\n",
    "L = [p1,p2,p3]\n",
    "\n",
    "for i in L:\n",
    "  print(i.name,i.gender)"
   ]
  },
  {
   "cell_type": "code",
   "execution_count": 17,
   "id": "a8c7c331",
   "metadata": {},
   "outputs": [
    {
     "name": "stdout",
     "output_type": "stream",
     "text": [
      "p1 male\n",
      "p2 male\n",
      "p3 female\n"
     ]
    }
   ],
   "source": [
    "# dict of objects\n",
    "# list of objects\n",
    "class Person:\n",
    "\n",
    "  def __init__(self,name,gender):\n",
    "    self.name = name\n",
    "    self.gender = gender\n",
    "\n",
    "p1 = Person('nitish','male')\n",
    "p2 = Person('ankit','male')\n",
    "p3 = Person('ankita','female')\n",
    "\n",
    "d = {'p1':p1,'p2':p2,'p3':p3}\n",
    "\n",
    "for i in d:\n",
    "  print(i, d[i].gender)"
   ]
  },
  {
   "cell_type": "markdown",
   "id": "7fdc3956",
   "metadata": {},
   "source": [
    "### Static Variables(Vs Instance variables)"
   ]
  },
  {
   "cell_type": "code",
   "execution_count": 130,
   "id": "4b77740e",
   "metadata": {},
   "outputs": [],
   "source": [
    "class Atm:\n",
    "    __counter = 1\n",
    "    \n",
    "  # constructor(special function)->superpower ->\n",
    "    def __init__(self):\n",
    "        print(id(self))\n",
    "        self.pin = ''\n",
    "        self.__balance = 0\n",
    "        self.cid = Atm.__counter\n",
    "        Atm.__counter = Atm.__counter + 1\n",
    "\n",
    "        #self.menu()\n",
    "        \n",
    "    @staticmethod\n",
    "    def get_counter():\n",
    "        return Atm.__counter\n",
    "\n",
    "    def get_balance(self):\n",
    "        return self.__balance\n",
    "\n",
    "    def set_balance(self,new_value):\n",
    "        if type(new_value) == int:\n",
    "          self.__balance = new_value\n",
    "        else:\n",
    "          print('beta bahot maarenge')\n",
    "\n",
    "    def __menu(self):\n",
    "        user_input = input(\"\"\"\n",
    "        Hi how can I help you?\n",
    "        1. Press 1 to create pin\n",
    "        2. Press 2 to change pin\n",
    "        3. Press 3 to check balance\n",
    "        4. Press 4 to withdraw\n",
    "        5. Anything else to exit\n",
    "        \"\"\")\n",
    "\n",
    "        if user_input == '1':\n",
    "          self.create_pin()\n",
    "        elif user_input == '2':\n",
    "          self.change_pin()\n",
    "        elif user_input == '3':\n",
    "          self.check_balance()\n",
    "        elif user_input == '4':\n",
    "          self.withdraw()\n",
    "        else:\n",
    "          exit()\n",
    "\n",
    "    def create_pin(self):\n",
    "        user_pin = input('enter your pin')\n",
    "        self.pin = user_pin\n",
    "\n",
    "        user_balance = int(input('enter balance'))\n",
    "        self.__balance = user_balance\n",
    "\n",
    "        print('pin created successfully')\n",
    "\n",
    "    def change_pin(self):\n",
    "        old_pin = input('enter old pin')\n",
    "\n",
    "        if old_pin == self.pin:\n",
    "          # let him change the pin\n",
    "          new_pin = input('enter new pin')\n",
    "          self.pin = new_pin\n",
    "          print('pin change successful')\n",
    "        else:\n",
    "          print('nai karne de sakta re baba')\n",
    "\n",
    "    def check_balance(self):\n",
    "        user_pin = input('enter your pin')\n",
    "        if user_pin == self.pin:\n",
    "          print('your balance is ',self.__balance)\n",
    "        else:\n",
    "          print('chal nikal yahan se')\n",
    "\n",
    "    def withdraw(self):\n",
    "        user_pin = input('enter the pin')\n",
    "        if user_pin == self.pin:\n",
    "          # allow to withdraw\n",
    "          amount = int(input('enter the amount'))\n",
    "          if amount <= self.__balance:\n",
    "            self.__balance = self.__balance - amount\n",
    "            print('withdrawl successful.balance is',self.__balance)\n",
    "          else:\n",
    "            print('abe garib')\n",
    "        else:\n",
    "          print('sale chor')"
   ]
  },
  {
   "cell_type": "code",
   "execution_count": 131,
   "id": "a3a2c24c",
   "metadata": {},
   "outputs": [
    {
     "name": "stdout",
     "output_type": "stream",
     "text": [
      "140364822700240\n"
     ]
    }
   ],
   "source": [
    "c1=Atm()"
   ]
  },
  {
   "cell_type": "code",
   "execution_count": 132,
   "id": "112e8d83",
   "metadata": {},
   "outputs": [
    {
     "name": "stdout",
     "output_type": "stream",
     "text": [
      "140364822701056\n"
     ]
    }
   ],
   "source": [
    "c2=Atm()"
   ]
  },
  {
   "cell_type": "code",
   "execution_count": 133,
   "id": "c324d6bf",
   "metadata": {},
   "outputs": [
    {
     "name": "stdout",
     "output_type": "stream",
     "text": [
      "140364822703648\n"
     ]
    }
   ],
   "source": [
    "c3=Atm()"
   ]
  },
  {
   "cell_type": "code",
   "execution_count": 134,
   "id": "95943731",
   "metadata": {},
   "outputs": [
    {
     "data": {
      "text/plain": [
       "1"
      ]
     },
     "execution_count": 134,
     "metadata": {},
     "output_type": "execute_result"
    }
   ],
   "source": [
    "c1.cid"
   ]
  },
  {
   "cell_type": "code",
   "execution_count": 135,
   "id": "8df83750",
   "metadata": {},
   "outputs": [
    {
     "data": {
      "text/plain": [
       "2"
      ]
     },
     "execution_count": 135,
     "metadata": {},
     "output_type": "execute_result"
    }
   ],
   "source": [
    "c2.cid"
   ]
  },
  {
   "cell_type": "code",
   "execution_count": 136,
   "id": "9ff34e20",
   "metadata": {},
   "outputs": [
    {
     "data": {
      "text/plain": [
       "3"
      ]
     },
     "execution_count": 136,
     "metadata": {},
     "output_type": "execute_result"
    }
   ],
   "source": [
    "c3.cid"
   ]
  },
  {
   "cell_type": "code",
   "execution_count": 137,
   "id": "3a1d2764",
   "metadata": {},
   "outputs": [
    {
     "data": {
      "text/plain": [
       "4"
      ]
     },
     "execution_count": 137,
     "metadata": {},
     "output_type": "execute_result"
    }
   ],
   "source": [
    "# we are using getter and setter methods to acccess counter, we made counter to private\n",
    "# now to acccess counter we will access it using get_counter() method but \n",
    "# when we try to acccess it using c1.get_counter() it gives error\n",
    "# get_counter() takes 0 positional arguments but 1 was given\n",
    "c1.get_counter() \n",
    "# this code will run if we make it static method\n",
    "# becasue we are sending the self to that method and that method is not taking anythign as argument\n",
    "# to avoid this we can access it using Atm.get_counter() -> like in the below cell"
   ]
  },
  {
   "cell_type": "code",
   "execution_count": 138,
   "id": "ee83d136",
   "metadata": {},
   "outputs": [
    {
     "data": {
      "text/plain": [
       "4"
      ]
     },
     "execution_count": 138,
     "metadata": {},
     "output_type": "execute_result"
    }
   ],
   "source": [
    "Atm.get_counter()"
   ]
  },
  {
   "cell_type": "code",
   "execution_count": 139,
   "id": "54745136",
   "metadata": {},
   "outputs": [],
   "source": [
    "# static methods can be used without creting an object\n",
    "# this is called utility funcitons"
   ]
  },
  {
   "cell_type": "markdown",
   "id": "f452c2f9",
   "metadata": {},
   "source": [
    "##### Points to remember about static\n",
    "\n",
    "- Static attributes are created at class level.\n",
    "- Static attributes are accessed using ClassName.\n",
    "- Static attributes are object independent. We can access them without creating instance (object) of the class in which they are defined.\n",
    "- The value stored in static attribute is shared between all instances(objects) of the class in which the static attribute is defined."
   ]
  },
  {
   "cell_type": "code",
   "execution_count": 141,
   "id": "c6fb8fb9",
   "metadata": {},
   "outputs": [
    {
     "name": "stdout",
     "output_type": "stream",
     "text": [
      "Simba drinks water from the well in the circus\n",
      "Water source of lions: well in the circus\n"
     ]
    }
   ],
   "source": [
    "class Lion:\n",
    "    __water_source=\"well in the circus\"\n",
    "    def __init__(self,name, gender):\n",
    "        self.__name=name\n",
    "        self.__gender=gender\n",
    "\n",
    "    def drinks_water(self):\n",
    "        print(self.__name,\"drinks water from the\",Lion.__water_source)\n",
    "\n",
    "    @staticmethod\n",
    "    def get_water_source():\n",
    "        return Lion.__water_source\n",
    "\n",
    "simba=Lion(\"Simba\",\"Male\")\n",
    "simba.drinks_water()\n",
    "print( \"Water source of lions:\",Lion.get_water_source())"
   ]
  },
  {
   "cell_type": "code",
   "execution_count": null,
   "id": "906abb93",
   "metadata": {},
   "outputs": [],
   "source": []
  }
 ],
 "metadata": {
  "kernelspec": {
   "display_name": "Python 3 (ipykernel)",
   "language": "python",
   "name": "python3"
  },
  "language_info": {
   "codemirror_mode": {
    "name": "ipython",
    "version": 3
   },
   "file_extension": ".py",
   "mimetype": "text/x-python",
   "name": "python",
   "nbconvert_exporter": "python",
   "pygments_lexer": "ipython3",
   "version": "3.9.13"
  }
 },
 "nbformat": 4,
 "nbformat_minor": 5
}
