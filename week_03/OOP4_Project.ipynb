{
 "cells": [
  {
   "cell_type": "code",
   "execution_count": 2,
   "id": "28554527",
   "metadata": {},
   "outputs": [
    {
     "name": "stdout",
     "output_type": "stream",
     "text": [
      "Collecting nlpcloud\n",
      "  Downloading nlpcloud-1.1.45-py3-none-any.whl (3.9 kB)\n",
      "Requirement already satisfied: requests in /Users/apple/opt/anaconda3/envs/dsmp_env/lib/python3.9/site-packages (from nlpcloud) (2.28.1)\n",
      "Requirement already satisfied: charset-normalizer<3,>=2 in /Users/apple/opt/anaconda3/envs/dsmp_env/lib/python3.9/site-packages (from requests->nlpcloud) (2.0.4)\n",
      "Requirement already satisfied: idna<4,>=2.5 in /Users/apple/opt/anaconda3/envs/dsmp_env/lib/python3.9/site-packages (from requests->nlpcloud) (3.3)\n",
      "Requirement already satisfied: certifi>=2017.4.17 in /Users/apple/opt/anaconda3/envs/dsmp_env/lib/python3.9/site-packages (from requests->nlpcloud) (2022.9.24)\n",
      "Requirement already satisfied: urllib3<1.27,>=1.21.1 in /Users/apple/opt/anaconda3/envs/dsmp_env/lib/python3.9/site-packages (from requests->nlpcloud) (1.26.11)\n",
      "Installing collected packages: nlpcloud\n",
      "Successfully installed nlpcloud-1.1.45\n",
      "Note: you may need to restart the kernel to use updated packages.\n"
     ]
    }
   ],
   "source": [
    "pip install nlpcloud"
   ]
  },
  {
   "cell_type": "code",
   "execution_count": 2,
   "id": "9e298cf4",
   "metadata": {},
   "outputs": [
    {
     "name": "stdout",
     "output_type": "stream",
     "text": [
      "\n",
      "        select an option:\n",
      "        1 - register\n",
      "        2 - login\n",
      "        3 - exit\n",
      "        1\n",
      "enter nameone\n",
      "enter emailone@hi.com\n",
      "enter password1234\n",
      "register\n",
      "registration successful, login now\n",
      "{'one@hi.com': ['one', '1234']}\n",
      "\n",
      "        select an option:\n",
      "        1 - register\n",
      "        2 - login\n",
      "        3 - exit\n",
      "        1\n",
      "enter nametwo\n",
      "enter emailtwo@hi.com\n",
      "enter password5678\n",
      "register\n",
      "registration successful, login now\n",
      "{'one@hi.com': ['one', '1234'], 'two@hi.com': ['two', '5678']}\n",
      "\n",
      "        select an option:\n",
      "        1 - register\n",
      "        2 - login\n",
      "        3 - exit\n",
      "        2\n",
      "enter emailone@hi.com\n",
      "enter password1234\n",
      "login successful\n",
      "\n",
      "        select an option:\n",
      "        1 - NER\n",
      "        2 - Language Detection\n",
      "        3 - Sentiment analysis\n",
      "        4 - logout\n",
      "        1\n"
     ]
    }
   ],
   "source": [
    "import nlpcloud\n",
    "\n",
    "class NLPApp:\n",
    "    def __init__(self):\n",
    "        self.__database_dict = {}\n",
    "        self.__firstmenu()\n",
    "        \n",
    "    def __firstmenu(self):\n",
    "        first_input = input(\"\"\"\n",
    "        select an option:\n",
    "        1 - register\n",
    "        2 - login\n",
    "        3 - exit\n",
    "        \"\"\")\n",
    "        \n",
    "        if first_input == '1':\n",
    "            self.__register()\n",
    "        elif first_input == '2':\n",
    "            self.__login()\n",
    "        else:\n",
    "            exit()\n",
    "            \n",
    "    def __secondmenu(self):\n",
    "        second_input = input(\"\"\"\n",
    "        select an option:\n",
    "        1 - NER\n",
    "        2 - Language Detection\n",
    "        3 - Sentiment analysis\n",
    "        4 - logout\n",
    "        \"\"\")\n",
    "        if second_input == '1':\n",
    "          self.__ner()\n",
    "        elif second_input == '2':\n",
    "          self.__language_detection()\n",
    "        elif second_input == '3':\n",
    "          self.__sentiment_analysis()\n",
    "        else:\n",
    "          exit()\n",
    "            \n",
    "    def __register(self):\n",
    "        name = input('enter name')\n",
    "        email = input('enter email')\n",
    "        password = input('enter password')# we are not putting self infront of these varaibles because we are not using them anywhere else in the program\n",
    "        print('register')\n",
    "        if email in self.__database_dict:\n",
    "            print('email already exists')\n",
    "        else:\n",
    "            self.__database_dict[email] = [name, password]\n",
    "            print('registration successful, login now')\n",
    "            print(self.__database_dict)\n",
    "            self.__firstmenu()\n",
    "        \n",
    "    def __login(self):\n",
    "        email = input('enter email')\n",
    "        password = input('enter password')\n",
    "\n",
    "        if email in self.__database_dict:\n",
    "          if self.__database_dict[email][1] == password:\n",
    "            print('login successful')\n",
    "            self.__secondmenu()\n",
    "          else:\n",
    "            print('wrong password.Try again')\n",
    "            self.__login()\n",
    "        else:\n",
    "          print('This email is not registered')\n",
    "          self.__firstmenu()\n",
    "            \n",
    "    def __ner(self):\n",
    "        para = input(\" enter the paragraph \")\n",
    "        search_term = input(\" what would you like to search \")\n",
    "        \n",
    "        client = client = nlpcloud.Client(\"finetuned-gpt-neox-20b\", \"2b58d7fb9af09e617ee525e78c7766b6d8c5bb61\", gpu=True, lang=\"en\")\n",
    "        response = client.entities(para, searched_entity = search_term)\n",
    "        \n",
    "        print(response)\n",
    "        \n",
    "    def __language_detection(self):\n",
    "        pass\n",
    "    def __sentiment_analysis(self):\n",
    "        para = input('enter the paragraph')\n",
    "\n",
    "        client = nlpcloud.Client(\"distilbert-base-uncased-emotion\", \"2b58d7fb9af09e617ee525e78c7766b6d8c5bb61\", gpu=False, lang=\"en\")\n",
    "        # in the above line need to change the token key as per my login into nlpcloud\n",
    "        response = client.sentiment(para)\n",
    "        # the response will be a dictionary and inside that there is a key and the value is the list of dictionaries \n",
    "        # now we are checking that list of dictionaries and checking the most prominent emotion in the list of dictionaries\n",
    "        \n",
    "\n",
    "        L = []\n",
    "        for i in response['scored_labels']:\n",
    "          L.append(i['score'])\n",
    "\n",
    "        # the below logic - enumerating the list to get the emotion value along with the index and sorting based on the emotion value\n",
    "        # taking the index and then using that index to take label\n",
    "        index = sorted(list(enumerate(L)),key=lambda x:x[1],reverse=True)[0][0]\n",
    "\n",
    "        print(response['scored_labels'][index]['label'])\n",
    "        self.__second_menu()\n",
    "        \n",
    "obj = NLPApp()\n",
    "        "
   ]
  },
  {
   "cell_type": "code",
   "execution_count": 3,
   "id": "f143c9c8",
   "metadata": {},
   "outputs": [],
   "source": [
    "d = {'scored_labels': [{'label': 'sadness', 'score': 0.98093181848526}, {'label': 'joy', 'score': 0.001407247269526124}, {'label': 'love', 'score': 0.0004157320945523679}, {'label': 'anger', 'score': 0.01649504341185093}, {'label': 'fear', 'score': 0.00039679379551671445}, {'label': 'surprise', 'score': 0.00035347335506230593}]}"
   ]
  },
  {
   "cell_type": "code",
   "execution_count": 4,
   "id": "cd9a723d",
   "metadata": {},
   "outputs": [
    {
     "data": {
      "text/plain": [
       "{'scored_labels': [{'label': 'sadness', 'score': 0.98093181848526},\n",
       "  {'label': 'joy', 'score': 0.001407247269526124},\n",
       "  {'label': 'love', 'score': 0.0004157320945523679},\n",
       "  {'label': 'anger', 'score': 0.01649504341185093},\n",
       "  {'label': 'fear', 'score': 0.00039679379551671445},\n",
       "  {'label': 'surprise', 'score': 0.00035347335506230593}]}"
      ]
     },
     "execution_count": 4,
     "metadata": {},
     "output_type": "execute_result"
    }
   ],
   "source": [
    "d"
   ]
  },
  {
   "cell_type": "code",
   "execution_count": 5,
   "id": "f0023783",
   "metadata": {},
   "outputs": [],
   "source": [
    "L = []\n",
    "for i in d['scored_labels']:\n",
    "  L.append(i['score'])\n"
   ]
  },
  {
   "cell_type": "code",
   "execution_count": 6,
   "id": "b5a560b2",
   "metadata": {},
   "outputs": [
    {
     "data": {
      "text/plain": [
       "[0.98093181848526,\n",
       " 0.001407247269526124,\n",
       " 0.0004157320945523679,\n",
       " 0.01649504341185093,\n",
       " 0.00039679379551671445,\n",
       " 0.00035347335506230593]"
      ]
     },
     "execution_count": 6,
     "metadata": {},
     "output_type": "execute_result"
    }
   ],
   "source": [
    "L"
   ]
  },
  {
   "cell_type": "code",
   "execution_count": 7,
   "id": "e895b354",
   "metadata": {},
   "outputs": [],
   "source": [
    "index = sorted(list(enumerate(L)),key=lambda x:x[1],reverse=True)[0][0]"
   ]
  },
  {
   "cell_type": "code",
   "execution_count": 8,
   "id": "b8e84a11",
   "metadata": {},
   "outputs": [
    {
     "data": {
      "text/plain": [
       "0"
      ]
     },
     "execution_count": 8,
     "metadata": {},
     "output_type": "execute_result"
    }
   ],
   "source": [
    "index"
   ]
  },
  {
   "cell_type": "code",
   "execution_count": 9,
   "id": "a508cd6c",
   "metadata": {},
   "outputs": [
    {
     "data": {
      "text/plain": [
       "'sadness'"
      ]
     },
     "execution_count": 9,
     "metadata": {},
     "output_type": "execute_result"
    }
   ],
   "source": [
    "d['scored_labels'][index]['label']"
   ]
  },
  {
   "cell_type": "code",
   "execution_count": 10,
   "id": "7079f521",
   "metadata": {},
   "outputs": [
    {
     "name": "stdout",
     "output_type": "stream",
     "text": [
      "Collecting emoji\n",
      "  Downloading emoji-2.9.0-py2.py3-none-any.whl (397 kB)\n",
      "\u001b[2K     \u001b[38;2;114;156;31m━━━━━━━━━━━━━━━━━━━━━━━━━━━━━━━━━━━━━━━\u001b[0m \u001b[32m397.5/397.5 kB\u001b[0m \u001b[31m1.3 MB/s\u001b[0m eta \u001b[36m0:00:00\u001b[0m[36m0:00:01\u001b[0m[36m0:00:01\u001b[0m:01\u001b[0m\n",
      "\u001b[?25hInstalling collected packages: emoji\n",
      "Successfully installed emoji-2.9.0\n",
      "Note: you may need to restart the kernel to use updated packages.\n"
     ]
    }
   ],
   "source": [
    "pip install emoji"
   ]
  },
  {
   "cell_type": "code",
   "execution_count": 1,
   "id": "036daacd",
   "metadata": {},
   "outputs": [
    {
     "name": "stdout",
     "output_type": "stream",
     "text": [
      "Python is 😀\n"
     ]
    }
   ],
   "source": [
    "import emoji\n",
    "print(emoji.emojize('Python is :grinning_face:'))"
   ]
  },
  {
   "cell_type": "code",
   "execution_count": null,
   "id": "2ea29816",
   "metadata": {},
   "outputs": [],
   "source": []
  }
 ],
 "metadata": {
  "kernelspec": {
   "display_name": "Python 3 (ipykernel)",
   "language": "python",
   "name": "python3"
  },
  "language_info": {
   "codemirror_mode": {
    "name": "ipython",
    "version": 3
   },
   "file_extension": ".py",
   "mimetype": "text/x-python",
   "name": "python",
   "nbconvert_exporter": "python",
   "pygments_lexer": "ipython3",
   "version": "3.9.13"
  }
 },
 "nbformat": 4,
 "nbformat_minor": 5
}
