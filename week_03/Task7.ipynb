{
 "cells": [
  {
   "cell_type": "code",
   "execution_count": 1,
   "id": "d442dbd0",
   "metadata": {},
   "outputs": [],
   "source": [
    "class rectangle:\n",
    "    def __init__(self, length, breadth):\n",
    "        self.length = length\n",
    "        self.breadth = breadth\n",
    "    def rect_area(self):\n",
    "        return self.length*self.breadth\n",
    "    def rect_perimeter(self):\n",
    "        return 2*(self.length + self.breadth)\n",
    "    def display(self):\n",
    "        print('the length of the rectangle is : ', self.length)\n",
    "        print('the width of the rectangle is : ', self.breadth)\n",
    "        print('the area of the rectangle is : ', self.rect_area())\n",
    "        print('the perimeter of the rectangle is : ', self.rect_perimeter())"
   ]
  },
  {
   "cell_type": "code",
   "execution_count": 3,
   "id": "29c86eff",
   "metadata": {},
   "outputs": [
    {
     "name": "stdout",
     "output_type": "stream",
     "text": [
      "the length of the rectangle is :  7\n",
      "the width of the rectangle is :  4\n",
      "the area of the rectangle is :  28\n",
      "the perimeter of the rectangle is :  22\n"
     ]
    }
   ],
   "source": [
    "rect1 = rectangle(7, 4)\n",
    "rect1.display()"
   ]
  },
  {
   "cell_type": "code",
   "execution_count": 24,
   "id": "42746797",
   "metadata": {},
   "outputs": [],
   "source": [
    "class BankAccount:\n",
    "    def __init__(self, accNum, Name, balance):\n",
    "        self.accNum = accNum\n",
    "        self.Name = Name\n",
    "        self.balance = balance\n",
    "    def deposit(self, dep_amount):\n",
    "        self.dep_amount = dep_amount\n",
    "        # dep_amount can be accessed normally here, \n",
    "        #but if you want to use it in other functions in the class then self. some name should be given and then we can use it\n",
    "        # self.blah = dep_amount -> this can also be given\n",
    "        # self.blah can be used anywhere\n",
    "        self.balance = self.balance + dep_amount\n",
    "    def withdrawal(self,draw_amount):\n",
    "        self.balance = self.balance - draw_amount\n",
    "    def bankFees(self):\n",
    "        pass\n",
    "    def display(self):\n",
    "        print('Account Number : ', self.accNum)\n",
    "        print('Account Name : ', self.Name)\n",
    "        print('deposited amount : ', self.dep_amount)\n",
    "        print('Account Balance : ', self.balance)"
   ]
  },
  {
   "cell_type": "code",
   "execution_count": 25,
   "id": "b10b484b",
   "metadata": {},
   "outputs": [
    {
     "name": "stdout",
     "output_type": "stream",
     "text": [
      "Account Number :  12345\n",
      "Account Name :  hari\n",
      "deposited amount :  1\n",
      "Account Balance :  789456122\n"
     ]
    }
   ],
   "source": [
    "acc1 = BankAccount(12345, 'hari', 789456123)\n",
    "acc1.deposit(1)\n",
    "acc1.withdrawal(2)\n",
    "acc1.display()"
   ]
  },
  {
   "cell_type": "code",
   "execution_count": null,
   "id": "c8006a18",
   "metadata": {},
   "outputs": [],
   "source": [
    "class computation:\n",
    "    def __init__(self):\n",
    "        pass\n",
    "    def factorial(self):\n",
    "        num = int(input('enter number you want to check factorial : '))\n",
    "        fact = 1\n",
    "        for i in range(1 , num + 1):\n",
    "            fact = fact * i\n",
    "        return fact\n",
    "    \n",
    "    def naturalSum(self):\n",
    "        num = int(input('enter number you want to check natural sum : '))\n",
    "        nSum = 0\n",
    "        for i in range(1 , num + 1):\n",
    "            nSum = nSum + i\n",
    "        return nSum\n",
    "    \n",
    "    def testPrime(self):\n",
    "        n = int(input('enter number to check prime : '))\n",
    "        j = 0\n",
    "        for i in range (1, n + 1):\n",
    "            if (n% i == 0):\n",
    "                j = j + 1\n",
    "        if (j == 2):\n",
    "            return True\n",
    "        else:\n",
    "            return False\n",
    "        \n",
    "    def test_eachother_prime(self, n, m):\n",
    "        # initialize the number of commons divisors\n",
    "        commonDiv = 0\n",
    "        for i in range (1, n + 1):\n",
    "            if (n% i == 0 and m% i == 0):\n",
    "                commonDiv = commonDiv + 1\n",
    "        if commonDiv == 1:\n",
    "            print (\"The numbers\", n, \"and\", m, \"are co-primes\")\n",
    "        else:\n",
    "            print (\"The numbers\", n, \"and\", m, \"are not co-primes\")\n",
    "            \n",
    "    def tableMult(self):\n",
    "        num = int(input('enter number you want to check multiplication table : '))\n",
    "        mult = 1\n",
    "        for i in range(1, 11):\n",
    "            print(num +'*'+ i +'='+ num*i)\n",
    "            \n",
    "    def listDiv(self):\n",
    "        # initialization of the list of divisors\n",
    "        lDiv = []\n",
    "        for i in range (1, n + 1):\n",
    "            if (n% i == 0):\n",
    "                lDiv.append (i)\n",
    "        return lDiv\n",
    "    \n",
    "    def listPrimeDivisor(self, n):\n",
    "        # initialization of the list of divisors\n",
    "        lDiv = []\n",
    "        for i in range (1, n + 1):\n",
    "            if (n% i == 0 and self.testPrime(i)):\n",
    "                lDiv.append(i)\n",
    "        return lDiv"
   ]
  },
  {
   "cell_type": "code",
   "execution_count": null,
   "id": "11b447ea",
   "metadata": {},
   "outputs": [],
   "source": [
    "class flashCard:\n",
    "    def __init__(self):\n",
    "        self.dict = {'banana':'yello', 'strawberries':'pink', 'watermelon':'green'}\n",
    "        \n",
    "    "
   ]
  }
 ],
 "metadata": {
  "kernelspec": {
   "display_name": "Python 3 (ipykernel)",
   "language": "python",
   "name": "python3"
  },
  "language_info": {
   "codemirror_mode": {
    "name": "ipython",
    "version": 3
   },
   "file_extension": ".py",
   "mimetype": "text/x-python",
   "name": "python",
   "nbconvert_exporter": "python",
   "pygments_lexer": "ipython3",
   "version": "3.9.13"
  }
 },
 "nbformat": 4,
 "nbformat_minor": 5
}
