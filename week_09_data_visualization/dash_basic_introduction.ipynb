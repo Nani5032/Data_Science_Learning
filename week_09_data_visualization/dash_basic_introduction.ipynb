{
 "cells": [
  {
   "cell_type": "code",
   "execution_count": 7,
   "id": "8ccbbf7d",
   "metadata": {},
   "outputs": [
    {
     "name": "stdout",
     "output_type": "stream",
     "text": [
      "Requirement already satisfied: dash-html-components in /Users/apple/opt/anaconda3/envs/dsmp_env/lib/python3.9/site-packages (2.0.0)\n",
      "Requirement already satisfied: dash-core-components in /Users/apple/opt/anaconda3/envs/dsmp_env/lib/python3.9/site-packages (2.0.0)\n",
      "Collecting dash\n",
      "  Downloading dash-2.16.1-py3-none-any.whl (10.2 MB)\n",
      "\u001b[2K     \u001b[38;2;114;156;31m━━━━━━━━━━━━━━━━━━━━━━━━━━━━━━━━━━━━━━━━\u001b[0m \u001b[32m10.2/10.2 MB\u001b[0m \u001b[31m6.7 MB/s\u001b[0m eta \u001b[36m0:00:00\u001b[0mm eta \u001b[36m0:00:01\u001b[0m:01\u001b[0m:01\u001b[0m\n",
      "\u001b[?25hRequirement already satisfied: nest-asyncio in /Users/apple/opt/anaconda3/envs/dsmp_env/lib/python3.9/site-packages (from dash) (1.5.5)\n",
      "Requirement already satisfied: plotly>=5.0.0 in /Users/apple/opt/anaconda3/envs/dsmp_env/lib/python3.9/site-packages (from dash) (5.9.0)\n",
      "Collecting retrying\n",
      "  Downloading retrying-1.3.4-py3-none-any.whl (11 kB)\n",
      "Requirement already satisfied: Flask<3.1,>=1.0.4 in /Users/apple/opt/anaconda3/envs/dsmp_env/lib/python3.9/site-packages (from dash) (1.1.2)\n",
      "Collecting dash-table==5.0.0\n",
      "  Downloading dash_table-5.0.0-py3-none-any.whl (3.9 kB)\n",
      "Requirement already satisfied: dash-html-components==2.0.0 in /Users/apple/opt/anaconda3/envs/dsmp_env/lib/python3.9/site-packages (from dash) (2.0.0)\n",
      "Requirement already satisfied: dash-core-components==2.0.0 in /Users/apple/opt/anaconda3/envs/dsmp_env/lib/python3.9/site-packages (from dash) (2.0.0)\n",
      "Requirement already satisfied: typing-extensions>=4.1.1 in /Users/apple/opt/anaconda3/envs/dsmp_env/lib/python3.9/site-packages (from dash) (4.3.0)\n",
      "Requirement already satisfied: Werkzeug<3.1 in /Users/apple/opt/anaconda3/envs/dsmp_env/lib/python3.9/site-packages (from dash) (2.0.3)\n",
      "Requirement already satisfied: setuptools in /Users/apple/opt/anaconda3/envs/dsmp_env/lib/python3.9/site-packages (from dash) (63.4.1)\n",
      "Requirement already satisfied: importlib-metadata in /Users/apple/opt/anaconda3/envs/dsmp_env/lib/python3.9/site-packages (from dash) (4.11.3)\n",
      "Requirement already satisfied: requests in /Users/apple/opt/anaconda3/envs/dsmp_env/lib/python3.9/site-packages (from dash) (2.28.1)\n",
      "Requirement already satisfied: Jinja2>=2.10.1 in /Users/apple/opt/anaconda3/envs/dsmp_env/lib/python3.9/site-packages (from Flask<3.1,>=1.0.4->dash) (2.11.3)\n",
      "Requirement already satisfied: click>=5.1 in /Users/apple/opt/anaconda3/envs/dsmp_env/lib/python3.9/site-packages (from Flask<3.1,>=1.0.4->dash) (8.0.4)\n",
      "Requirement already satisfied: itsdangerous>=0.24 in /Users/apple/opt/anaconda3/envs/dsmp_env/lib/python3.9/site-packages (from Flask<3.1,>=1.0.4->dash) (2.0.1)\n",
      "Requirement already satisfied: tenacity>=6.2.0 in /Users/apple/opt/anaconda3/envs/dsmp_env/lib/python3.9/site-packages (from plotly>=5.0.0->dash) (8.2.3)\n",
      "Requirement already satisfied: zipp>=0.5 in /Users/apple/opt/anaconda3/envs/dsmp_env/lib/python3.9/site-packages (from importlib-metadata->dash) (3.8.0)\n",
      "Requirement already satisfied: certifi>=2017.4.17 in /Users/apple/opt/anaconda3/envs/dsmp_env/lib/python3.9/site-packages (from requests->dash) (2022.9.24)\n",
      "Requirement already satisfied: idna<4,>=2.5 in /Users/apple/opt/anaconda3/envs/dsmp_env/lib/python3.9/site-packages (from requests->dash) (3.3)\n",
      "Requirement already satisfied: urllib3<1.27,>=1.21.1 in /Users/apple/opt/anaconda3/envs/dsmp_env/lib/python3.9/site-packages (from requests->dash) (1.26.11)\n",
      "Requirement already satisfied: charset-normalizer<3,>=2 in /Users/apple/opt/anaconda3/envs/dsmp_env/lib/python3.9/site-packages (from requests->dash) (2.0.4)\n",
      "Requirement already satisfied: six>=1.7.0 in /Users/apple/opt/anaconda3/envs/dsmp_env/lib/python3.9/site-packages (from retrying->dash) (1.16.0)\n",
      "Requirement already satisfied: MarkupSafe>=0.23 in /Users/apple/opt/anaconda3/envs/dsmp_env/lib/python3.9/site-packages (from Jinja2>=2.10.1->Flask<3.1,>=1.0.4->dash) (2.0.1)\n",
      "Installing collected packages: dash-table, retrying, dash\n",
      "Successfully installed dash-2.16.1 dash-table-5.0.0 retrying-1.3.4\n"
     ]
    }
   ],
   "source": [
    "!pip install dash-html-components\n",
    "!pip install dash-core-components\n",
    "!pip install dash"
   ]
  },
  {
   "cell_type": "code",
   "execution_count": 16,
   "id": "f23e9609",
   "metadata": {},
   "outputs": [],
   "source": [
    "import numpy as np\n",
    "import pandas as pd\n",
    "import seaborn as sns\n",
    "import plotly.offline as pyo\n",
    "import plotly.graph_objs as go\n",
    "import plotly.express as px # gapminder comes from this\n",
    "import dash_html_components as html\n",
    "from dash import dcc\n",
    "import dash"
   ]
  },
  {
   "cell_type": "code",
   "execution_count": 17,
   "id": "3cb6c2fe",
   "metadata": {},
   "outputs": [],
   "source": [
    "data = px.data.gapminder()"
   ]
  },
  {
   "cell_type": "code",
   "execution_count": 18,
   "id": "68b572cd",
   "metadata": {},
   "outputs": [
    {
     "data": {
      "text/html": [
       "<div>\n",
       "<style scoped>\n",
       "    .dataframe tbody tr th:only-of-type {\n",
       "        vertical-align: middle;\n",
       "    }\n",
       "\n",
       "    .dataframe tbody tr th {\n",
       "        vertical-align: top;\n",
       "    }\n",
       "\n",
       "    .dataframe thead th {\n",
       "        text-align: right;\n",
       "    }\n",
       "</style>\n",
       "<table border=\"1\" class=\"dataframe\">\n",
       "  <thead>\n",
       "    <tr style=\"text-align: right;\">\n",
       "      <th></th>\n",
       "      <th>country</th>\n",
       "      <th>continent</th>\n",
       "      <th>year</th>\n",
       "      <th>lifeExp</th>\n",
       "      <th>pop</th>\n",
       "      <th>gdpPercap</th>\n",
       "      <th>iso_alpha</th>\n",
       "      <th>iso_num</th>\n",
       "    </tr>\n",
       "  </thead>\n",
       "  <tbody>\n",
       "    <tr>\n",
       "      <th>0</th>\n",
       "      <td>Afghanistan</td>\n",
       "      <td>Asia</td>\n",
       "      <td>1952</td>\n",
       "      <td>28.801</td>\n",
       "      <td>8425333</td>\n",
       "      <td>779.445314</td>\n",
       "      <td>AFG</td>\n",
       "      <td>4</td>\n",
       "    </tr>\n",
       "    <tr>\n",
       "      <th>1</th>\n",
       "      <td>Afghanistan</td>\n",
       "      <td>Asia</td>\n",
       "      <td>1957</td>\n",
       "      <td>30.332</td>\n",
       "      <td>9240934</td>\n",
       "      <td>820.853030</td>\n",
       "      <td>AFG</td>\n",
       "      <td>4</td>\n",
       "    </tr>\n",
       "    <tr>\n",
       "      <th>2</th>\n",
       "      <td>Afghanistan</td>\n",
       "      <td>Asia</td>\n",
       "      <td>1962</td>\n",
       "      <td>31.997</td>\n",
       "      <td>10267083</td>\n",
       "      <td>853.100710</td>\n",
       "      <td>AFG</td>\n",
       "      <td>4</td>\n",
       "    </tr>\n",
       "    <tr>\n",
       "      <th>3</th>\n",
       "      <td>Afghanistan</td>\n",
       "      <td>Asia</td>\n",
       "      <td>1967</td>\n",
       "      <td>34.020</td>\n",
       "      <td>11537966</td>\n",
       "      <td>836.197138</td>\n",
       "      <td>AFG</td>\n",
       "      <td>4</td>\n",
       "    </tr>\n",
       "    <tr>\n",
       "      <th>4</th>\n",
       "      <td>Afghanistan</td>\n",
       "      <td>Asia</td>\n",
       "      <td>1972</td>\n",
       "      <td>36.088</td>\n",
       "      <td>13079460</td>\n",
       "      <td>739.981106</td>\n",
       "      <td>AFG</td>\n",
       "      <td>4</td>\n",
       "    </tr>\n",
       "  </tbody>\n",
       "</table>\n",
       "</div>"
      ],
      "text/plain": [
       "       country continent  year  lifeExp       pop   gdpPercap iso_alpha  \\\n",
       "0  Afghanistan      Asia  1952   28.801   8425333  779.445314       AFG   \n",
       "1  Afghanistan      Asia  1957   30.332   9240934  820.853030       AFG   \n",
       "2  Afghanistan      Asia  1962   31.997  10267083  853.100710       AFG   \n",
       "3  Afghanistan      Asia  1967   34.020  11537966  836.197138       AFG   \n",
       "4  Afghanistan      Asia  1972   36.088  13079460  739.981106       AFG   \n",
       "\n",
       "   iso_num  \n",
       "0        4  \n",
       "1        4  \n",
       "2        4  \n",
       "3        4  \n",
       "4        4  "
      ]
     },
     "execution_count": 18,
     "metadata": {},
     "output_type": "execute_result"
    }
   ],
   "source": [
    "data.head()"
   ]
  },
  {
   "cell_type": "code",
   "execution_count": 19,
   "id": "00f49646",
   "metadata": {},
   "outputs": [],
   "source": [
    "app = dash.Dash()"
   ]
  },
  {
   "cell_type": "code",
   "execution_count": 29,
   "id": "b4ae3e73",
   "metadata": {},
   "outputs": [],
   "source": [
    "app.layout = html.H1(children=\"My first Dashboard\", style={'color':'red', 'text-align':'center'})"
   ]
  },
  {
   "cell_type": "code",
   "execution_count": 30,
   "id": "ad575488",
   "metadata": {},
   "outputs": [
    {
     "data": {
      "text/html": [
       "\n",
       "        <iframe\n",
       "            width=\"100%\"\n",
       "            height=\"650\"\n",
       "            src=\"http://127.0.0.1:8050/\"\n",
       "            frameborder=\"0\"\n",
       "            allowfullscreen\n",
       "            \n",
       "        ></iframe>\n",
       "        "
      ],
      "text/plain": [
       "<IPython.lib.display.IFrame at 0x7fe5087235b0>"
      ]
     },
     "metadata": {},
     "output_type": "display_data"
    }
   ],
   "source": [
    "if __name__ == '__main__':\n",
    "    app.run_server()"
   ]
  },
  {
   "cell_type": "code",
   "execution_count": 39,
   "id": "1d5d9cb6",
   "metadata": {},
   "outputs": [
    {
     "data": {
      "text/html": [
       "\n",
       "        <iframe\n",
       "            width=\"100%\"\n",
       "            height=\"650\"\n",
       "            src=\"http://127.0.0.1:8050/\"\n",
       "            frameborder=\"0\"\n",
       "            allowfullscreen\n",
       "            \n",
       "        ></iframe>\n",
       "        "
      ],
      "text/plain": [
       "<IPython.lib.display.IFrame at 0x7fe50f80f970>"
      ]
     },
     "metadata": {},
     "output_type": "display_data"
    }
   ],
   "source": [
    "app2 = dash.Dash()\n",
    "app2.layout=html.Div([\n",
    "    html.Div(children=[\n",
    "        html.H1('My First Dashboard', style={'color':'red', 'text-align':'center'})\n",
    "    ],style={'border':'1px black solid', 'float':'left', 'width':'100%', 'height':'50px'}),\n",
    "    html.Div(children=[\n",
    "        dcc.Graph(id='scatter-plot',\n",
    "                  figure={'data':[go.Scatter(x=data['pop'],y=data['gdpPercap'],mode='markers')],\n",
    "                          'layout':go.Layout(title='Scatter Plot')})\n",
    "    ],style={'border':'1px black solid', 'float':'left', 'width':'49%'}),\n",
    "    html.Div(children=[\n",
    "        dcc.Graph(id='box-plot',\n",
    "                  figure={'data':[go.Box(x=data['gdpPercap'])],\n",
    "                          'layout':go.Layout(title='Box Plot')})\n",
    "    ],style={'border':'1px black solid', 'float':'left', 'width':'49%'})\n",
    "])\n",
    "if __name__ == '__main__':\n",
    "    app2.run_server()"
   ]
  },
  {
   "cell_type": "code",
   "execution_count": null,
   "id": "11774f1f",
   "metadata": {},
   "outputs": [],
   "source": []
  }
 ],
 "metadata": {
  "kernelspec": {
   "display_name": "Python 3 (ipykernel)",
   "language": "python",
   "name": "python3"
  },
  "language_info": {
   "codemirror_mode": {
    "name": "ipython",
    "version": 3
   },
   "file_extension": ".py",
   "mimetype": "text/x-python",
   "name": "python",
   "nbconvert_exporter": "python",
   "pygments_lexer": "ipython3",
   "version": "3.9.13"
  }
 },
 "nbformat": 4,
 "nbformat_minor": 5
}
